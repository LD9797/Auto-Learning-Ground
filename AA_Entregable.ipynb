{
 "cells": [
  {
   "cell_type": "markdown",
   "metadata": {},
   "source": [
    "# **Trabajo práctico 0: Algoritmo de Maximización de la Esperanza**"
   ]
  },
  {
   "cell_type": "markdown",
   "metadata": {},
   "source": [
    "Pre-requisitos para el notebook."
   ]
  },
  {
   "cell_type": "code",
   "execution_count": 1,
   "metadata": {
    "ExecuteTime": {
     "end_time": "2024-02-18T20:03:31.228083600Z",
     "start_time": "2024-02-18T20:03:27.446905800Z"
    },
    "id": "aI7oDlIsH7yw"
   },
   "outputs": [
    {
     "name": "stdout",
     "output_type": "stream",
     "text": [
      "Using cuda\n"
     ]
    }
   ],
   "source": [
    "import torch\n",
    "import math\n",
    "import numpy as np\n",
    "import random\n",
    "import matplotlib.pyplot as plt\n",
    "from mpl_toolkits.mplot3d import Axes3D\n",
    "from matplotlib import cm\n",
    "from matplotlib import style\n",
    "from scipy.stats import norm\n",
    "# Requerido para algoritmo de maximización de la esperanza, de lo contrario se mezclan todos los plots.\n",
    "%matplotlib inline \n",
    "style.use('default')\n",
    "\n",
    "pallet = [\"#1F77B4\", \"#B41F77\", \"#77B41F\"]\n",
    "\n",
    "device = torch.device(\"cuda\" if torch.cuda.is_available() else \"cpu\")\n",
    "print(f\"Using {device}\")"
   ]
  },
  {
   "cell_type": "markdown",
   "metadata": {
    "id": "8dHTWUKUH7yt"
   },
   "source": [
    "## **1. (80 puntos) Algoritmo de Maximización de la Esperanza con datos artificiales (modelo Gaussiano)**\n",
    "\n",
    "A continuación, implemente el algoritmo de maximización de la esperanza (descrito en el material del curso), usando la definición y descripción de las siguientes funciones como base:\n",
    "\n",
    "1. **(15 puntos)** Implemente la función $\\textit{generate\\_data}$ la cual reciba la cantidad de observaciones unidimensionales total a generar $N$, y los parámetros correspondientes a $K=2$ funciones de densidad **Gaussianas**. Genere los datos siguiendo tales distribuciones, y retorne tal matriz de datos $X\\in\\mathbb{R}^{Nx1}$.\n",
    "\n",
    "    a) Grafique los datos usando un scatter plot junto con las gráficas de los histogramas de los datos y las funciones de densidad de probabilidad **Gaussianas** usando los parámetros para inicializar los datos, en la misma figura (gráfico). Escoja 3 conjuntos de parámetros para mostrar los 3 dataset resultantes."
   ]
  },
  {
   "cell_type": "code",
   "execution_count": 2,
   "metadata": {},
   "outputs": [
    {
     "name": "stdout",
     "output_type": "stream",
     "text": [
      "Mus:  tensor([23.0771, 24.2408])\n",
      "Sigmas:  tensor([4.8346, 5.5664])\n"
     ]
    },
    {
     "data": {
      "text/plain": [
       "tensor([[26.8983, 15.1134, 18.2213, 21.5306, 26.3935, 21.6824, 22.9255, 25.2706,\n",
       "         17.5039, 21.3227, 28.6054, 17.1753, 22.5557, 28.3931, 21.3525, 24.3666,\n",
       "         22.0016, 23.7310, 30.5008, 16.2651],\n",
       "        [23.6266, 19.6465, 25.9010, 27.4033, 28.6075, 17.1979, 31.8078, 13.7848,\n",
       "         31.8728, 35.0445, 25.5667, 35.5998, 24.7129, 34.6510, 24.5847, 29.9703,\n",
       "         29.2310, 18.4178, 21.4737, 26.5319]])"
      ]
     },
     "execution_count": 2,
     "metadata": {},
     "output_type": "execute_result"
    }
   ],
   "source": [
    "MU_SPREAD_COEFFICIENT = 20\n",
    "MU_SHIFT_COEFFICIENT = 30\n",
    "SIGMA_SPREAD_COEFFICIENT = 1.5\n",
    "SIGMA_SHIFT_COEFFICIENT = 3\n",
    "\n",
    "def generate_data_gaussian(n_observations: int, k_parameters: int = 2) -> torch.Tensor:\n",
    "    mus = torch.randn(k_parameters) * MU_SPREAD_COEFFICIENT + MU_SHIFT_COEFFICIENT\n",
    "    print(\"Mus: \", mus)\n",
    "    sigmas = torch.abs(torch.randn(k_parameters) * SIGMA_SPREAD_COEFFICIENT + SIGMA_SHIFT_COEFFICIENT)\n",
    "    print(\"Sigmas: \", sigmas)\n",
    "    # Create distributions\n",
    "    distributions = torch.distributions.Normal(mus, sigmas)\n",
    "    # Exact samples\n",
    "    samples = distributions.sample(torch.Size([n_observations,])).t()\n",
    "    return samples\n",
    "\n",
    "randomdata = generate_data_gaussian(20)\n",
    "\n",
    "randomdata"
   ]
  },
  {
   "cell_type": "code",
   "execution_count": null,
   "metadata": {},
   "outputs": [],
   "source": [
    "def plot_observation_2(observation, show=True, color=pallet[0], obs_number=1):\n",
    "    fig, ax = plt.subplots()\n",
    "    x_axis = torch.arange(observation.min(), observation.max(), 0.01)\n",
    "    # Histogram\n",
    "    ax.hist(observation, density=True, bins=20, alpha=0.5, color=color)\n",
    "    # Scatter Dots\n",
    "    ax.scatter(observation, torch.zeros(observation.size()), s=6, alpha=0.5, color=color)\n",
    "    # Gaussian Curve\n",
    "    mu = torch.mean(observation)\n",
    "    sigma = torch.std(observation, unbiased=True)\n",
    "    label = fr'$\\mu={round(mu.item(), 2)},\\ \\sigma={round(sigma.item(), 2)}$'\n",
    "    ax.plot(x_axis, norm.pdf(x_axis, mu, sigma), color=color, label=label)\n",
    "    ax.set_title(f\"Generated Gaussian Observation #{obs_number}\")\n",
    "    ax.legend()\n",
    "    # Adjust y-axis\n",
    "    y_min, y_max = ax.get_ylim()\n",
    "    ax.set_ylim(y_min - 0.01, y_max)\n",
    "    if show:\n",
    "        plt.show()\n",
    "\n",
    "sample = generate_data_gaussian(20)\n",
    "plot_observation_2(sample[0], obs_number=0)\n",
    "plot_observation_2(sample[1], obs_number=1)"
   ]
  },
  {
   "cell_type": "markdown",
   "metadata": {},
   "source": [
    "2. **(5 puntos)** Implemente la función $\\textit{init\\_random\\_parameters}$ la cual genere una matriz de $P\\in\\mathbb{R}^{Kx2}$ dimensiones, con los parámetros de las funciones de densidad **Gaussiana** generados completamente al azar.\n",
    "\n",
    "    a) Muestre un pantallazo donde verifique su funcionamiento correcto con los comentarios asociados."
   ]
  },
  {
   "cell_type": "code",
   "execution_count": null,
   "metadata": {},
   "outputs": [],
   "source": [
    "#  Genera una matriz k x 2 con mu y sigma aleatorios\n",
    "def init_random_parameters(k_parameters=2):\n",
    "    mus = torch.randn(k_parameters) * MU_SPREAD_COEFFICIENT + MU_SHIFT_COEFFICIENT\n",
    "    sigmas = torch.abs(torch.randn(k_parameters) * SIGMA_SPREAD_COEFFICIENT + SIGMA_SHIFT_COEFFICIENT)\n",
    "    return torch.stack((mus, sigmas), dim=1)\n",
    "\n",
    "random_param = init_random_parameters(k_parameters=2)\n",
    "\n",
    "random_param"
   ]
  },
  {
   "cell_type": "markdown",
   "metadata": {},
   "source": [
    "3. **(20 puntos)** Implemente la función  $\\textit{calculate\\_likelihood\\_gaussian\\_observation(x\\_n, mu\\_k, sigma\\_k)}$ la cual calcule la verosimilitud de una observación específica $X_{n}$, para una función de densidad Gaussiana con parámetros $\\mu_{k}$ y $\\sigma_{k}$.\n",
    "Realice la correción pertinente al calculo de la función de verosimilitud para evitar el problema de $\\textit{under flow}$.\n",
    "\n",
    "    a) Diseñe y ejecute una prueba unitaria donde verifique su funcionamiento correcto con los comentarios asociados."
   ]
  },
  {
   "cell_type": "code",
   "execution_count": null,
   "metadata": {},
   "outputs": [],
   "source": [
    "# TODO\n",
    "def calculate_likelihood_gaussian_observation(x_n, mu_k, sigma_k):\n",
    "    n = x_n.shape[0]\n",
    "    return (-(n / 2) * torch.log(torch.tensor(2 * torch.pi)) - n * torch.log(torch.tensor(sigma_k)) - (\n",
    "                1 / (2 * sigma_k ** 2)) * torch.sum((x_n - mu_k) ** 2))\n",
    "\n"
   ]
  },
  {
   "cell_type": "markdown",
   "metadata": {},
   "source": [
    "4. **(10 puntos)** Implemente la función $\\textit{calculate\\_membership\\_dataset(X\\_dataset,Parameters\\_matrix)}$, la cual, usando la matriz de parámetros $P$ y la función anteriormente implementada calculate_likelihood_gaussian_observation, defina por cada observación $X_{n}\\in X$ la pertenencia o membresía a  cluster $k=1,...,K$, en una matriz binaria $M\\in\\mathbb{R}^{NxK}$. Retorne tal matriz de membresía $M$.\n",
    "\n",
    "    a) Diseñe y ejecute una prueba unitaria donde verifique su funcionamiento correcto con los comentarios asociados"
   ]
  },
  {
   "cell_type": "code",
   "execution_count": null,
   "metadata": {},
   "outputs": [],
   "source": [
    "##Clase 4 de Deep learning 1 hora 10min"
   ]
  },
  {
   "cell_type": "markdown",
   "metadata": {},
   "source": [
    "5. **(10 puntos)** Implemente la función $\\textit{recalculate\\_parameters(X\\_dataset, Membership\\_data)}$, la cual recalcule los parámetros de las funciones de densidad Gaussianas representandas en la matriz $P$, de acuerdo a lo representado en la matriz de membresía $M$.\n",
    "\n",
    "    a)   Use las funciones $\\textit{mean}$ y $\\textit{std}$ de pytorch para ello. Intente prescindir al máximo de estructuras de repetición tipo $\\textit{for}$."
   ]
  },
  {
   "cell_type": "code",
   "execution_count": null,
   "metadata": {},
   "outputs": [],
   "source": [
    "# TODO"
   ]
  },
  {
   "cell_type": "markdown",
   "metadata": {},
   "source": [
    "6. **(10 puntos)** Ejecute 5 corridas diferentes del algoritmo, donde por cada una documente los parámetros a los que se arribó, junto con los parámetros iniciales (describalo en una tabla). Hagalo para los 3 conjuntos de datos generados anteriormente.\n",
    "\n",
    "    a) Grafique las funciones de densidad de probabilidad a las que convergió el algoritmo. Puede graficar también las funciones de densidad obtenidas en 2 o 3 pasos intermedios. Presente una tabla de gráficas donde en cada entrada se identifique el número de iteración y los parámetros iniciales.\n",
    "\n",
    "    b) Comente los resultados."
   ]
  },
  {
   "cell_type": "code",
   "execution_count": null,
   "metadata": {},
   "outputs": [],
   "source": [
    "# TODO"
   ]
  },
  {
   "cell_type": "markdown",
   "metadata": {},
   "source": [
    "7. **(10 puntos)** Proponga una mejor heurística para inicializar los parámetros del modelo aleatoriamente.\n",
    "\n",
    "    a) Compruebe la mejora obtenida con el método propuesto, corriendo las pruebas del punto anterior."
   ]
  },
  {
   "cell_type": "code",
   "execution_count": null,
   "metadata": {},
   "outputs": [],
   "source": [
    "# TODO"
   ]
  },
  {
   "cell_type": "markdown",
   "metadata": {},
   "source": [
    "## **2. (40 puntos) Algoritmo de Maximización de la Esperanza con datos artificiales (modelo Gamma)**\n",
    "\n",
    "En esta sección, modificará el algoritmo de maximización de la esperanza anteriormente implementado para un modelo Gaussiano, para el modelo Gamma.\n",
    "\n",
    "1. **(20 puntos)** Enliste e implemente todas las modificaciones necesarias tanto conceptualmente como en código para hacer que el algoritmo de maximización de la esperanza utilice un modelo Gamma"
   ]
  },
  {
   "cell_type": "code",
   "execution_count": null,
   "metadata": {},
   "outputs": [],
   "source": [
    "# TODO"
   ]
  },
  {
   "cell_type": "markdown",
   "metadata": {},
   "source": [
    "2. **(5 puntos)** Implemente la función $\\textit{generate\\_data}$ la cual reciba la cantidad de observaciones unidimensionales total a generar $N$, y los parámetros correspondientes a $K = 2$funciones de densidad Gamma.Genere los datos siguiendo tales distribuciones, y retorne tal matriz de datos $N\\in\\mathbb{R}^{Nx1}$.\n",
    "\n",
    "    a) Grafique los datos usando un $\\textit{scatter plot}$ junto con las gráficas de los histogramas de los datos y las funciones de densidad de probabilidad **Gamma** usando los parámetros para inicializar los datos, en la misma figura (gráfico). Los parámetros serán escogidos por usted, muestre al menos 3 generaciones del dataset y comente el efecto de los parámetros."
   ]
  },
  {
   "cell_type": "code",
   "execution_count": null,
   "metadata": {},
   "outputs": [],
   "source": [
    "# TODO"
   ]
  },
  {
   "cell_type": "markdown",
   "metadata": {},
   "source": [
    "3.  **(10 puntos)** Ejecute 5 corridas diferentes del algoritmo, donde por cada una documente los parámetros a los que se arribó, junto con los parámetros iniciales (describalo en una tabla). Hagalo para los 3 conjuntos de datos generados anteriormente.\n",
    "\n",
    "    a) Grafique las funciones de densidad de probabilidad a las que convergió el algoritmo. Puede graficar también las funciones de densidad obtenidas en 2 o 3 pasos intermedios. Presente una tabla de gráficas donde en cada entrada se identifique el número de iteración y los parámetros iniciales.\n",
    "\n",
    "    1) Comente los resultados."
   ]
  },
  {
   "cell_type": "code",
   "execution_count": null,
   "metadata": {},
   "outputs": [],
   "source": [
    "# TODO"
   ]
  },
  {
   "cell_type": "markdown",
   "metadata": {},
   "source": [
    "4. **(5 puntos)** Explique cual es el comportamiento esperado de utilizar la implementación del algoritmo de maximización de esperanza para una distribución Gamma, con un conjunto de datos que sigue una distribución Gaussiana y viceversa.\n",
    "\n",
    "    a) **(10 puntos)** Realice un diseño experimental donde verifique lo anterior"
   ]
  },
  {
   "cell_type": "code",
   "execution_count": null,
   "metadata": {},
   "outputs": [],
   "source": [
    "# TODO"
   ]
  },
  {
   "cell_type": "code",
   "execution_count": null,
   "metadata": {},
   "outputs": [],
   "source": [
    "import torch\n",
    "from torch_kmeans import KMeans\n",
    "\n",
    "model = KMeans(n_clusters=2)\n",
    "\n",
    "x = torch.randn((4, 20, 2))   # (BS, N, D)\n",
    "result = model(x)\n",
    "#print(result.labels)\n",
    "print(result.centers)\n",
    "#print(result.inertia)\n",
    "#print(result.x_org)\n",
    "#print(result.x_norm)\n",
    "#print(result.k)\n",
    "#print(result.soft_assignment)\n",
    "\n",
    "\n",
    "\n"
   ]
  },
  {
   "cell_type": "code",
   "execution_count": 4,
   "metadata": {},
   "outputs": [
    {
     "name": "stdout",
     "output_type": "stream",
     "text": [
      "Full batch converged at iteration 6/100 with center shifts = tensor([0., 0.]).\n",
      "Centers:  tensor([[[26.7699],\n",
      "         [19.8042]],\n",
      "\n",
      "        [[21.4913],\n",
      "         [31.0720]]])\n",
      "Inertia:  tensor([119.9298, 246.2569])\n",
      "Tensor de centroides ajustados: tensor([[26.7699],\n",
      "        [21.4913]])\n",
      "Tensor de varianza: tensor([[0.0167],\n",
      "        [0.0081]])\n"
     ]
    },
    {
     "data": {
      "text/plain": [
       "tensor([[2.6770e+01, 1.6676e-02],\n",
       "        [2.1491e+01, 8.1216e-03]])"
      ]
     },
     "execution_count": 4,
     "metadata": {},
     "output_type": "execute_result"
    }
   ],
   "source": [
    "import torch\n",
    "from torch_kmeans import KMeans\n",
    "\n",
    "def heuristic_improvement(test_data):\n",
    "   \n",
    "    #test_data = generate_data_gaussian(20)\n",
    "    model = KMeans(n_clusters=test_data.size(0))\n",
    "\n",
    "    test_data = test_data.unsqueeze(2)\n",
    "    result = model(test_data)\n",
    "\n",
    "    print(\"Centers: \", result.centers)\n",
    "    print(\"Inertia: \",result.inertia)\n",
    "        \n",
    "        #Estimación de Mu\n",
    "    centroides = result.centers\n",
    "    centroides = centroides.flatten()\n",
    "    centroides = centroides[::2]\n",
    "    centroides = centroides.reshape(2,1)\n",
    "    print(\"Tensor de centroides ajustados:\", centroides)\n",
    "        \n",
    "    # Estimación de Sigmas\n",
    "    varianza = (test_data.size(0) / result.inertia[0]), (test_data.size(0) / result.inertia[1])\n",
    "    varianza = torch.tensor(varianza)\n",
    "    varianza = varianza.reshape(2,1)\n",
    "    print(\"Tensor de varianza:\", varianza)\n",
    "\n",
    "    \n",
    "    new_params = torch.cat((centroides, varianza),dim=1)\n",
    "    #new_params = torch.round(new_params,decimals=4)\n",
    "\n",
    "    #print(\"New param: \", new_params)\n",
    "\n",
    "    return new_params\n",
    "\n",
    "#sample_data = generate_data_gaussian(200)\n",
    "heuristic_improvement(randomdata)"
   ]
  }
 ],
 "metadata": {
  "colab": {
   "provenance": []
  },
  "kernelspec": {
   "display_name": "Python 3 (ipykernel)",
   "language": "python",
   "name": "python3"
  },
  "language_info": {
   "codemirror_mode": {
    "name": "ipython",
    "version": 3
   },
   "file_extension": ".py",
   "mimetype": "text/x-python",
   "name": "python",
   "nbconvert_exporter": "python",
   "pygments_lexer": "ipython3",
   "version": "3.12.2"
  },
  "vscode": {
   "interpreter": {
    "hash": "5020b9ee0a8929ac5eb1b3fdb8306c158218ab19e75e568837c0f095b545b9d9"
   }
  }
 },
 "nbformat": 4,
 "nbformat_minor": 1
}
