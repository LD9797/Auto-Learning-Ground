{
 "cells": [
  {
   "cell_type": "code",
   "execution_count": 1,
   "metadata": {
    "ExecuteTime": {
     "end_time": "2024-04-20T17:37:00.975276900Z",
     "start_time": "2024-04-20T17:36:58.794794800Z"
    }
   },
   "outputs": [
    {
     "name": "stdout",
     "output_type": "stream",
     "text": [
      "Requirement already satisfied: torchvision in c:\\users\\user\\appdata\\local\\programs\\python\\python312\\lib\\site-packages (0.17.0+cu121)\n",
      "Requirement already satisfied: numpy in c:\\users\\user\\appdata\\local\\programs\\python\\python312\\lib\\site-packages (from torchvision) (1.26.4)\n",
      "Requirement already satisfied: requests in c:\\users\\user\\appdata\\local\\programs\\python\\python312\\lib\\site-packages (from torchvision) (2.31.0)\n",
      "Requirement already satisfied: torch==2.2.0+cu121 in c:\\users\\user\\appdata\\local\\programs\\python\\python312\\lib\\site-packages (from torchvision) (2.2.0+cu121)\n",
      "Requirement already satisfied: pillow!=8.3.*,>=5.3.0 in c:\\users\\user\\appdata\\local\\programs\\python\\python312\\lib\\site-packages (from torchvision) (10.2.0)\n",
      "Requirement already satisfied: filelock in c:\\users\\user\\appdata\\local\\programs\\python\\python312\\lib\\site-packages (from torch==2.2.0+cu121->torchvision) (3.13.1)\n",
      "Requirement already satisfied: typing-extensions>=4.8.0 in c:\\users\\user\\appdata\\local\\programs\\python\\python312\\lib\\site-packages (from torch==2.2.0+cu121->torchvision) (4.9.0)\n",
      "Requirement already satisfied: sympy in c:\\users\\user\\appdata\\local\\programs\\python\\python312\\lib\\site-packages (from torch==2.2.0+cu121->torchvision) (1.12)\n",
      "Requirement already satisfied: networkx in c:\\users\\user\\appdata\\local\\programs\\python\\python312\\lib\\site-packages (from torch==2.2.0+cu121->torchvision) (3.2.1)\n",
      "Requirement already satisfied: jinja2 in c:\\users\\user\\appdata\\local\\programs\\python\\python312\\lib\\site-packages (from torch==2.2.0+cu121->torchvision) (3.1.3)\n",
      "Requirement already satisfied: fsspec in c:\\users\\user\\appdata\\local\\programs\\python\\python312\\lib\\site-packages (from torch==2.2.0+cu121->torchvision) (2024.2.0)\n",
      "Requirement already satisfied: charset-normalizer<4,>=2 in c:\\users\\user\\appdata\\local\\programs\\python\\python312\\lib\\site-packages (from requests->torchvision) (3.3.2)\n",
      "Requirement already satisfied: idna<4,>=2.5 in c:\\users\\user\\appdata\\local\\programs\\python\\python312\\lib\\site-packages (from requests->torchvision) (3.6)\n",
      "Requirement already satisfied: urllib3<3,>=1.21.1 in c:\\users\\user\\appdata\\local\\programs\\python\\python312\\lib\\site-packages (from requests->torchvision) (2.2.0)\n",
      "Requirement already satisfied: certifi>=2017.4.17 in c:\\users\\user\\appdata\\local\\programs\\python\\python312\\lib\\site-packages (from requests->torchvision) (2024.2.2)\n",
      "Requirement already satisfied: MarkupSafe>=2.0 in c:\\users\\user\\appdata\\local\\programs\\python\\python312\\lib\\site-packages (from jinja2->torch==2.2.0+cu121->torchvision) (2.1.5)\n",
      "Requirement already satisfied: mpmath>=0.19 in c:\\users\\user\\appdata\\local\\programs\\python\\python312\\lib\\site-packages (from sympy->torch==2.2.0+cu121->torchvision) (1.3.0)\n"
     ]
    }
   ],
   "source": [
    "!pip install torchvision"
   ]
  },
  {
   "cell_type": "code",
   "execution_count": 2,
   "metadata": {
    "ExecuteTime": {
     "end_time": "2024-04-20T17:37:59.857500100Z",
     "start_time": "2024-04-20T17:37:57.010373700Z"
    }
   },
   "outputs": [
    {
     "name": "stdout",
     "output_type": "stream",
     "text": [
      "Requirement already satisfied: torch in c:\\users\\user\\appdata\\local\\programs\\python\\python312\\lib\\site-packages (2.2.0+cu121)\n",
      "Requirement already satisfied: filelock in c:\\users\\user\\appdata\\local\\programs\\python\\python312\\lib\\site-packages (from torch) (3.13.1)\n",
      "Requirement already satisfied: typing-extensions>=4.8.0 in c:\\users\\user\\appdata\\local\\programs\\python\\python312\\lib\\site-packages (from torch) (4.9.0)\n",
      "Requirement already satisfied: sympy in c:\\users\\user\\appdata\\local\\programs\\python\\python312\\lib\\site-packages (from torch) (1.12)\n",
      "Requirement already satisfied: networkx in c:\\users\\user\\appdata\\local\\programs\\python\\python312\\lib\\site-packages (from torch) (3.2.1)\n",
      "Requirement already satisfied: jinja2 in c:\\users\\user\\appdata\\local\\programs\\python\\python312\\lib\\site-packages (from torch) (3.1.3)\n",
      "Requirement already satisfied: fsspec in c:\\users\\user\\appdata\\local\\programs\\python\\python312\\lib\\site-packages (from torch) (2024.2.0)\n",
      "Requirement already satisfied: MarkupSafe>=2.0 in c:\\users\\user\\appdata\\local\\programs\\python\\python312\\lib\\site-packages (from jinja2->torch) (2.1.5)\n",
      "Requirement already satisfied: mpmath>=0.19 in c:\\users\\user\\appdata\\local\\programs\\python\\python312\\lib\\site-packages (from sympy->torch) (1.3.0)\n"
     ]
    }
   ],
   "source": [
    "!pip install torch"
   ]
  },
  {
   "cell_type": "code",
   "execution_count": 8,
   "metadata": {
    "id": "qDVvweY0UIm0",
    "ExecuteTime": {
     "end_time": "2024-04-20T17:39:01.232415100Z",
     "start_time": "2024-04-20T17:39:01.216133Z"
    }
   },
   "outputs": [],
   "source": [
    "from __future__ import print_function\n",
    "import argparse\n",
    "import torch\n",
    "import torch.nn as nn\n",
    "import torch.nn.functional as F\n",
    "import torch.optim as optim\n",
    "import numpy as np;\n",
    "import pandas as pandas;\n",
    "from scipy import ndimage\n",
    "from torchvision import datasets, transforms\n",
    "from torch.distributions import normal\n",
    "from torch.distributions import multivariate_normal\n",
    "import matplotlib.pyplot as plt\n",
    "import warnings\n",
    "warnings.filterwarnings(\"ignore\", category=UserWarning)\n",
    "warnings.filterwarnings(\"ignore\", category=DeprecationWarning)\n",
    "\n",
    "device = \"cpu\""
   ]
  },
  {
   "cell_type": "markdown",
   "metadata": {
    "id": "RDHYTE1qUKJ6"
   },
   "source": [
    "## Creation of artificial data\n",
    "\n",
    "Data are created artificially with a mixed Gaussian distribution of two clusters, with specific means and standard deviations"
   ]
  },
  {
   "cell_type": "code",
   "execution_count": 4,
   "metadata": {
    "id": "iZUnRQCtUi6l",
    "ExecuteTime": {
     "end_time": "2024-04-20T17:38:14.487195800Z",
     "start_time": "2024-04-20T17:38:14.463200600Z"
    }
   },
   "outputs": [],
   "source": [
    "\n",
    "def createData(numberSamplesPerClass = 2, mean1 = [6, 6], mean2 = [14, 14], stds1 = [3, 3], stds2 = [2, 1]):\n",
    "    \"\"\"\n",
    "    Creates the data to be used for training, using a GMM distribution\n",
    "    @param numberSamplesPerClass, the number of samples per class\n",
    "    @param mean1, means for samples from the class 1\n",
    "    @param mean2, means for samples from the class 2\n",
    "    @param stds1, standard deviation for samples, class 1\n",
    "    @param stds2, standard deviation for samples, class 2\n",
    "    \"\"\"\n",
    "    means = torch.zeros(2, device = device)\n",
    "\n",
    "    # Ones to concatenate for bias\n",
    "    ones = torch.ones(numberSamplesPerClass, 1, device = device)\n",
    "    means[0] = mean1[0]\n",
    "    means[1] = mean1[1]\n",
    "    # Covariance matrix creation with identity\n",
    "    covarianceMatrix = torch.eye(2, device = device )\n",
    "    covarianceMatrix[0, 0] = stds1[0]\n",
    "    covarianceMatrix[1, 1] = stds1[1]\n",
    "    samplesClass1 = createDataOneClass(means, covarianceMatrix, numberSamplesPerClass)\n",
    "    means[0] = mean2[0]\n",
    "    means[1] = mean2[1]\n",
    "    covarianceMatrix[0, 0] = stds2[0]\n",
    "    covarianceMatrix[1, 1] = stds2[1]\n",
    "    samplesClass2 = createDataOneClass(means, covarianceMatrix, numberSamplesPerClass)\n",
    "    # Concatenates the ones for the bias\n",
    "    samplesClass1Bias = torch.cat((ones, samplesClass1), 1)\n",
    "    samplesClass2Bias = torch.cat((ones, samplesClass2), 1)\n",
    "    samplesAll = torch.cat((samplesClass1, samplesClass2), 0)\n",
    "    \n",
    "    plt.scatter(samplesClass1[:, 0].cpu().detach().numpy(), samplesClass1[:, 1].cpu().detach().numpy(), marker = \"x\")  \n",
    "    plt.scatter(samplesClass2[:, 0].cpu().detach().numpy(), samplesClass2[:, 1].cpu().detach().numpy())  \n",
    "    \n",
    "    #Create samples with bias\n",
    "    samplesAllBias = torch.cat((samplesClass1Bias, samplesClass2Bias), 0)\n",
    "    \n",
    "    #Create targets\n",
    "    targetsClass1 = torch.ones(numberSamplesPerClass, 1, device = device )\n",
    "    targetsClass2 = -1 * torch.ones(numberSamplesPerClass, 1, device = device )\n",
    "    targetsAll = torch.cat((targetsClass1, targetsClass2), 0)\n",
    "    \n",
    "    return (targetsAll, samplesAllBias)\n",
    "\n",
    "\n",
    "'''\n",
    "Creates data with gaussian distribution\n",
    "'''\n",
    "def createDataOneClass(means, covarianceMatrix, numberSamples):\n",
    "    # Inits the bi gaussian data generator\n",
    "    multiGaussGenerator = multivariate_normal.MultivariateNormal(means, covarianceMatrix)\n",
    "    # Takes the samples\n",
    "    samples = multiGaussGenerator.sample(torch.Size([numberSamples]))\n",
    "    samples = torch.tensor(samples,  device = device )\n",
    "    \n",
    "    return samples"
   ]
  },
  {
   "cell_type": "markdown",
   "metadata": {
    "id": "W9Su7DIj4ulk"
   },
   "source": [
    "## Least squares implementation"
   ]
  },
  {
   "cell_type": "code",
   "execution_count": 5,
   "metadata": {
    "id": "ogDwb74F4ull",
    "ExecuteTime": {
     "end_time": "2024-04-20T17:38:21.851893400Z",
     "start_time": "2024-04-20T17:38:21.840043400Z"
    }
   },
   "outputs": [],
   "source": [
    "def estimate_optimum_LS(t, M):\n",
    "    \"\"\"\n",
    "    Estimate the optimum W with NO FORS\n",
    "    param M: NumSamples x 1 matrix with target values (1 or -1)\n",
    "    param t: NumSamples x NumDimensions \n",
    "    return w: array with optimum weights\n",
    "    \"\"\"\n",
    "    M_pinv = torch.tensor(np.linalg.pinv(M.numpy()), device = device )\n",
    "    w_opt = M_pinv.mm(t)\n",
    "    return w_opt         \n",
    "\n",
    "\n",
    "def forward(M, w):\n",
    "    \"\"\"\n",
    "    Get model output, with NO FORS\n",
    "    param M: dataset\n",
    "    return t_estimated, with 1 or -1\n",
    "    \"\"\"\n",
    "    y = M.mm(w)        \n",
    "    y[y > 0] = 1\n",
    "    y[y <= 0 ] = -1\n",
    "    t_estimated = y\n",
    "    return t_estimated\n",
    "\n",
    "def evaluate_error(t, t_estimated):\n",
    "    \"\"\"\n",
    "    Evaluate model error using the euclidian distance\n",
    "    param t, real targets\n",
    "    param t_estimated, estimated targets by the model\n",
    "    \"\"\"\n",
    "    error = torch.norm(t - t_estimated, 1) / t.shape[0]\n",
    "\n",
    "    return error"
   ]
  },
  {
   "cell_type": "markdown",
   "metadata": {
    "id": "trqQMVu34ulm"
   },
   "source": [
    "## Test the original least squares model"
   ]
  },
  {
   "cell_type": "code",
   "execution_count": 20,
   "metadata": {
    "colab": {
     "base_uri": "https://localhost:8080/",
     "height": 678
    },
    "id": "VHQyGpb-4ulm",
    "outputId": "6eab3037-5afe-4c6d-d5e5-5b3347a560fc",
    "ExecuteTime": {
     "end_time": "2024-04-20T19:45:16.031423500Z",
     "start_time": "2024-04-20T19:43:10.848061800Z"
    }
   },
   "outputs": [
    {
     "ename": "KeyboardInterrupt",
     "evalue": "",
     "output_type": "error",
     "traceback": [
      "\u001B[1;31m---------------------------------------------------------------------------\u001B[0m",
      "\u001B[1;31mKeyboardInterrupt\u001B[0m                         Traceback (most recent call last)",
      "Cell \u001B[1;32mIn[20], line 35\u001B[0m\n\u001B[0;32m     32\u001B[0m     error \u001B[38;5;241m=\u001B[39m evaluate_error(t_test, t_estimated_test)\n\u001B[0;32m     33\u001B[0m     \u001B[38;5;28mprint\u001B[39m(\u001B[38;5;124m\"\u001B[39m\u001B[38;5;124mTest error: \u001B[39m\u001B[38;5;124m\"\u001B[39m, error)\n\u001B[1;32m---> 35\u001B[0m \u001B[43mmain\u001B[49m\u001B[43m(\u001B[49m\u001B[43m)\u001B[49m\n\u001B[0;32m     36\u001B[0m \u001B[38;5;66;03m#(t, M) = createData(numberSamplesPerClass = 20, mean1 = [6, 6], mean2 = [14, 14], stds1 = [3, 3], stds2 = [2, 1])\u001B[39;00m\n",
      "Cell \u001B[1;32mIn[20], line 19\u001B[0m, in \u001B[0;36mmain\u001B[1;34m()\u001B[0m\n\u001B[0;32m     17\u001B[0m (t, M) \u001B[38;5;241m=\u001B[39m createData(numberSamplesPerClass \u001B[38;5;241m=\u001B[39m \u001B[38;5;241m20\u001B[39m)\n\u001B[0;32m     18\u001B[0m \u001B[38;5;66;03m#estimate optimum model weights\u001B[39;00m\n\u001B[1;32m---> 19\u001B[0m w_opt \u001B[38;5;241m=\u001B[39m \u001B[43mestimate_optimum_LS\u001B[49m(t, M)\n\u001B[0;32m     20\u001B[0m \u001B[38;5;28mprint\u001B[39m(\u001B[38;5;124m\"\u001B[39m\u001B[38;5;124mPesos optimos \u001B[39m\u001B[38;5;130;01m\\n\u001B[39;00m\u001B[38;5;124m \u001B[39m\u001B[38;5;124m\"\u001B[39m, w_opt)    \n\u001B[0;32m     21\u001B[0m \u001B[38;5;66;03m#estimate targets for the training dataset\u001B[39;00m\n",
      "File \u001B[1;32m_pydevd_bundle\\\\pydevd_cython_win32_312_64.pyx:1187\u001B[0m, in \u001B[0;36m_pydevd_bundle.pydevd_cython_win32_312_64.SafeCallWrapper.__call__\u001B[1;34m()\u001B[0m\n",
      "File \u001B[1;32m_pydevd_bundle\\\\pydevd_cython_win32_312_64.pyx:627\u001B[0m, in \u001B[0;36m_pydevd_bundle.pydevd_cython_win32_312_64.PyDBFrame.trace_dispatch\u001B[1;34m()\u001B[0m\n",
      "File \u001B[1;32m_pydevd_bundle\\\\pydevd_cython_win32_312_64.pyx:937\u001B[0m, in \u001B[0;36m_pydevd_bundle.pydevd_cython_win32_312_64.PyDBFrame.trace_dispatch\u001B[1;34m()\u001B[0m\n",
      "File \u001B[1;32m_pydevd_bundle\\\\pydevd_cython_win32_312_64.pyx:928\u001B[0m, in \u001B[0;36m_pydevd_bundle.pydevd_cython_win32_312_64.PyDBFrame.trace_dispatch\u001B[1;34m()\u001B[0m\n",
      "File \u001B[1;32m_pydevd_bundle\\\\pydevd_cython_win32_312_64.pyx:585\u001B[0m, in \u001B[0;36m_pydevd_bundle.pydevd_cython_win32_312_64.PyDBFrame.do_wait_suspend\u001B[1;34m()\u001B[0m\n",
      "File \u001B[1;32mC:\\Program Files\\JetBrains\\PyCharm 2023.3.3\\plugins\\python\\helpers\\pydev\\pydevd.py:1184\u001B[0m, in \u001B[0;36mPyDB.do_wait_suspend\u001B[1;34m(self, thread, frame, event, arg, send_suspend_message, is_unhandled_exception)\u001B[0m\n\u001B[0;32m   1181\u001B[0m         from_this_thread\u001B[38;5;241m.\u001B[39mappend(frame_id)\n\u001B[0;32m   1183\u001B[0m \u001B[38;5;28;01mwith\u001B[39;00m \u001B[38;5;28mself\u001B[39m\u001B[38;5;241m.\u001B[39m_threads_suspended_single_notification\u001B[38;5;241m.\u001B[39mnotify_thread_suspended(thread_id, stop_reason):\n\u001B[1;32m-> 1184\u001B[0m     \u001B[38;5;28;43mself\u001B[39;49m\u001B[38;5;241;43m.\u001B[39;49m\u001B[43m_do_wait_suspend\u001B[49m\u001B[43m(\u001B[49m\u001B[43mthread\u001B[49m\u001B[43m,\u001B[49m\u001B[43m \u001B[49m\u001B[43mframe\u001B[49m\u001B[43m,\u001B[49m\u001B[43m \u001B[49m\u001B[43mevent\u001B[49m\u001B[43m,\u001B[49m\u001B[43m \u001B[49m\u001B[43marg\u001B[49m\u001B[43m,\u001B[49m\u001B[43m \u001B[49m\u001B[43msuspend_type\u001B[49m\u001B[43m,\u001B[49m\u001B[43m \u001B[49m\u001B[43mfrom_this_thread\u001B[49m\u001B[43m)\u001B[49m\n",
      "File \u001B[1;32mC:\\Program Files\\JetBrains\\PyCharm 2023.3.3\\plugins\\python\\helpers\\pydev\\pydevd.py:1199\u001B[0m, in \u001B[0;36mPyDB._do_wait_suspend\u001B[1;34m(self, thread, frame, event, arg, suspend_type, from_this_thread)\u001B[0m\n\u001B[0;32m   1196\u001B[0m             \u001B[38;5;28mself\u001B[39m\u001B[38;5;241m.\u001B[39m_call_mpl_hook()\n\u001B[0;32m   1198\u001B[0m         \u001B[38;5;28mself\u001B[39m\u001B[38;5;241m.\u001B[39mprocess_internal_commands()\n\u001B[1;32m-> 1199\u001B[0m         \u001B[43mtime\u001B[49m\u001B[38;5;241;43m.\u001B[39;49m\u001B[43msleep\u001B[49m\u001B[43m(\u001B[49m\u001B[38;5;241;43m0.01\u001B[39;49m\u001B[43m)\u001B[49m\n\u001B[0;32m   1201\u001B[0m \u001B[38;5;28mself\u001B[39m\u001B[38;5;241m.\u001B[39mcancel_async_evaluation(get_current_thread_id(thread), \u001B[38;5;28mstr\u001B[39m(\u001B[38;5;28mid\u001B[39m(frame)))\n\u001B[0;32m   1203\u001B[0m \u001B[38;5;66;03m# process any stepping instructions\u001B[39;00m\n",
      "\u001B[1;31mKeyboardInterrupt\u001B[0m: "
     ]
    },
    {
     "data": {
      "text/plain": "<Figure size 640x480 with 1 Axes>",
      "image/png": "[encoded data removed]"
     },
     "metadata": {},
     "output_type": "display_data"
    }
   ],
   "source": [
    "def plot_line(wOpt):\n",
    "  wOpt = wOpt.cpu().detach()\n",
    "  b = (-1*wOpt[0] / wOpt[2]).numpy()[0]\n",
    "  m = (-1*wOpt[1] / wOpt[2]).numpy()[0]\n",
    "  x = np.arange(0., 15., 0.01)\n",
    "  y = m * x + b\n",
    "  plt.plot(x, y)\n",
    "  plt.show()\n",
    "  \n",
    "  \n",
    "  \n",
    "\n",
    "\"\"\"\n",
    "Main function\n",
    "\"\"\"\n",
    "def main():\n",
    "    (t, M) = createData(numberSamplesPerClass = 20)\n",
    "    #estimate optimum model weights\n",
    "    w_opt = estimate_optimum_LS(t, M)\n",
    "    print(\"Pesos optimos \\n \", w_opt)    \n",
    "    #estimate targets for the training dataset\n",
    "    t_estimated = forward(M, w_opt)\n",
    "    #evaluates error using L1 distance\n",
    "    error = evaluate_error(t, t_estimated)\n",
    "    plot_line(w_opt)\n",
    "    print(\"Training error: \", error)\n",
    "    #Test error\n",
    "    (t_test, M_test) = createData(numberSamplesPerClass = 20)\n",
    "    #estimate targets for the training dataset\n",
    "    t_estimated_test = forward(M_test, w_opt)\n",
    "    #evaluates error using L1 distance\n",
    "    error = evaluate_error(t_test, t_estimated_test)\n",
    "    print(\"Test error: \", error)\n",
    "    \n",
    "main()\n",
    "#(t, M) = createData(numberSamplesPerClass = 20, mean1 = [6, 6], mean2 = [14, 14], stds1 = [3, 3], stds2 = [2, 1])\n",
    "    "
   ]
  },
  {
   "cell_type": "code",
   "execution_count": null,
   "metadata": {},
   "outputs": [],
   "source": []
  }
 ],
 "metadata": {
  "accelerator": "GPU",
  "colab": {
   "provenance": []
  },
  "kernelspec": {
   "display_name": "Python 3 (ipykernel)",
   "language": "python",
   "name": "python3"
  },
  "language_info": {
   "codemirror_mode": {
    "name": "ipython",
    "version": 3
   },
   "file_extension": ".py",
   "mimetype": "text/x-python",
   "name": "python",
   "nbconvert_exporter": "python",
   "pygments_lexer": "ipython3",
   "version": "3.10.9"
  }
 },
 "nbformat": 4,
 "nbformat_minor": 1
}
