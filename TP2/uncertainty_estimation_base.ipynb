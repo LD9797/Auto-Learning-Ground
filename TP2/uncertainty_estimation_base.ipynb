{
 "cells": [
  {
   "cell_type": "code",
   "execution_count": 1,
   "id": "2662b27a",
   "metadata": {
    "ExecuteTime": {
     "end_time": "2024-04-24T00:27:21.436463100Z",
     "start_time": "2024-04-24T00:27:21.334054800Z"
    }
   },
   "outputs": [
    {
     "name": "stderr",
     "output_type": "stream",
     "text": [
      "C:\\Users\\User\\AppData\\Local\\Temp\\ipykernel_25496\\157793664.py:4: DeprecationWarning: Importing display from IPython.core.display is deprecated since IPython 7.14, please import from IPython display\n",
      "  from IPython.core.display import display, HTML\n"
     ]
    }
   ],
   "source": [
    "import numpy as np\n",
    "import pandas as pd\n",
    "\n",
    "from IPython.core.display import display, HTML\n",
    "import plotly.graph_objects as go\n",
    "import plotly.express as px\n",
    "from plotly.subplots import make_subplots\n",
    "import plotly.io as pio\n",
    "\n",
    "\n",
    "import seaborn as sns\n",
    "from importlib import reload\n",
    "import matplotlib.pyplot as plt\n",
    "import matplotlib\n",
    "import warnings\n",
    "warnings.filterwarnings(\"ignore\", category=UserWarning)\n",
    "warnings.filterwarnings(\"ignore\", category=DeprecationWarning)"
   ]
  },
  {
   "cell_type": "markdown",
   "id": "71298053",
   "metadata": {},
   "source": [
    "# The UNSW dataset\n",
    "Published in \"UNSW-NB15: A Comprehensive Data set for Network\n",
    "Intrusion Detection systems\" https://ieeexplore.ieee.org/document/7348942\n",
    "\n",
    "This data set has a hybrid of the real modern normal and the contemporary synthesized attack activities of the network traffic. Existing and novel methods are utilised to generate the features of the UNSWNB15 data set.\n",
    "\n",
    "The dataset contains 47 features per observation, which include:\n",
    "\n",
    "- basic features (i.e., destination bits per second)\n",
    "- flow features (source IP address, etc.), \n",
    "- content features (i.e., Mean of the flow packet size transmitted by the dst ), \n",
    "- time features (Source inter-packet arrival time),\n",
    "- derived or generated features (i. e., No. of flows that has methods such as Get and Post in http service. )\n",
    "- connection features (i.e., No. of connections that contain the same service (14) and source address (1) in 100 connections according to the last time (26). )\n"
   ]
  },
  {
   "cell_type": "markdown",
   "id": "3fea81e9",
   "metadata": {},
   "source": [
    "# Explore the dataset"
   ]
  },
  {
   "cell_type": "code",
   "execution_count": 2,
   "id": "d3909575",
   "metadata": {
    "ExecuteTime": {
     "end_time": "2024-04-24T00:27:21.866870500Z",
     "start_time": "2024-04-24T00:27:21.438463900Z"
    }
   },
   "outputs": [
    {
     "name": "stdout",
     "output_type": "stream",
     "text": [
      "Shape of data frame  82332\n",
      "Set of 10 records\n"
     ]
    },
    {
     "data": {
      "text/plain": "                  id           dur  proto service  state         spkts  \\\ncount   82332.000000  82332.000000  82332   82332  82332  82332.000000   \nunique           NaN           NaN    131      13      7           NaN   \ntop              NaN           NaN    tcp       -    FIN           NaN   \nfreq             NaN           NaN  43095   47153  39339           NaN   \nmean    41166.500000      1.006756    NaN     NaN    NaN     18.666472   \nstd     23767.345519      4.710444    NaN     NaN    NaN    133.916353   \nmin         1.000000      0.000000    NaN     NaN    NaN      1.000000   \n25%     20583.750000      0.000008    NaN     NaN    NaN      2.000000   \n50%     41166.500000      0.014138    NaN     NaN    NaN      6.000000   \n75%     61749.250000      0.719360    NaN     NaN    NaN     12.000000   \nmax     82332.000000     59.999989    NaN     NaN    NaN  10646.000000   \n\n               dpkts        sbytes        dbytes          rate  ...  \\\ncount   82332.000000  8.233200e+04  8.233200e+04  8.233200e+04  ...   \nunique           NaN           NaN           NaN           NaN  ...   \ntop              NaN           NaN           NaN           NaN  ...   \nfreq             NaN           NaN           NaN           NaN  ...   \nmean       17.545936  7.993908e+03  1.323379e+04  8.241089e+04  ...   \nstd       115.574086  1.716423e+05  1.514715e+05  1.486204e+05  ...   \nmin         0.000000  2.400000e+01  0.000000e+00  0.000000e+00  ...   \n25%         0.000000  1.140000e+02  0.000000e+00  2.860611e+01  ...   \n50%         2.000000  5.340000e+02  1.780000e+02  2.650177e+03  ...   \n75%        10.000000  1.280000e+03  9.560000e+02  1.111111e+05  ...   \nmax     11018.000000  1.435577e+07  1.465753e+07  1.000000e+06  ...   \n\n        ct_dst_sport_ltm  ct_dst_src_ltm  is_ftp_login    ct_ftp_cmd  \\\ncount       82332.000000    82332.000000  82332.000000  82332.000000   \nunique               NaN             NaN           NaN           NaN   \ntop                  NaN             NaN           NaN           NaN   \nfreq                 NaN             NaN           NaN           NaN   \nmean            3.663011        7.456360      0.008284      0.008381   \nstd             5.915386       11.415191      0.091171      0.092485   \nmin             1.000000        1.000000      0.000000      0.000000   \n25%             1.000000        1.000000      0.000000      0.000000   \n50%             1.000000        3.000000      0.000000      0.000000   \n75%             3.000000        6.000000      0.000000      0.000000   \nmax            38.000000       63.000000      2.000000      2.000000   \n\n        ct_flw_http_mthd    ct_src_ltm    ct_srv_dst  is_sm_ips_ports  \\\ncount       82332.000000  82332.000000  82332.000000     82332.000000   \nunique               NaN           NaN           NaN              NaN   \ntop                  NaN           NaN           NaN              NaN   \nfreq                 NaN           NaN           NaN              NaN   \nmean            0.129743      6.468360      9.164262         0.011126   \nstd             0.638683      8.543927     11.121413         0.104891   \nmin             0.000000      1.000000      1.000000         0.000000   \n25%             0.000000      1.000000      2.000000         0.000000   \n50%             0.000000      3.000000      5.000000         0.000000   \n75%             0.000000      7.000000     11.000000         0.000000   \nmax            16.000000     60.000000     62.000000         1.000000   \n\n        attack_cat         label  \ncount        82332  82332.000000  \nunique          10           NaN  \ntop         Normal           NaN  \nfreq         37000           NaN  \nmean           NaN      0.550600  \nstd            NaN      0.497436  \nmin            NaN      0.000000  \n25%            NaN      0.000000  \n50%            NaN      1.000000  \n75%            NaN      1.000000  \nmax            NaN      1.000000  \n\n[11 rows x 45 columns]",
      "text/html": "<div>\n<style scoped>\n    .dataframe tbody tr th:only-of-type {\n        vertical-align: middle;\n    }\n\n    .dataframe tbody tr th {\n        vertical-align: top;\n    }\n\n    .dataframe thead th {\n        text-align: right;\n    }\n</style>\n<table border=\"1\" class=\"dataframe\">\n  <thead>\n    <tr style=\"text-align: right;\">\n      <th></th>\n      <th>id</th>\n      <th>dur</th>\n      <th>proto</th>\n      <th>service</th>\n      <th>state</th>\n      <th>spkts</th>\n      <th>dpkts</th>\n      <th>sbytes</th>\n      <th>dbytes</th>\n      <th>rate</th>\n      <th>...</th>\n      <th>ct_dst_sport_ltm</th>\n      <th>ct_dst_src_ltm</th>\n      <th>is_ftp_login</th>\n      <th>ct_ftp_cmd</th>\n      <th>ct_flw_http_mthd</th>\n      <th>ct_src_ltm</th>\n      <th>ct_srv_dst</th>\n      <th>is_sm_ips_ports</th>\n      <th>attack_cat</th>\n      <th>label</th>\n    </tr>\n  </thead>\n  <tbody>\n    <tr>\n      <th>count</th>\n      <td>82332.000000</td>\n      <td>82332.000000</td>\n      <td>82332</td>\n      <td>82332</td>\n      <td>82332</td>\n      <td>82332.000000</td>\n      <td>82332.000000</td>\n      <td>8.233200e+04</td>\n      <td>8.233200e+04</td>\n      <td>8.233200e+04</td>\n      <td>...</td>\n      <td>82332.000000</td>\n      <td>82332.000000</td>\n      <td>82332.000000</td>\n      <td>82332.000000</td>\n      <td>82332.000000</td>\n      <td>82332.000000</td>\n      <td>82332.000000</td>\n      <td>82332.000000</td>\n      <td>82332</td>\n      <td>82332.000000</td>\n    </tr>\n    <tr>\n      <th>unique</th>\n      <td>NaN</td>\n      <td>NaN</td>\n      <td>131</td>\n      <td>13</td>\n      <td>7</td>\n      <td>NaN</td>\n      <td>NaN</td>\n      <td>NaN</td>\n      <td>NaN</td>\n      <td>NaN</td>\n      <td>...</td>\n      <td>NaN</td>\n      <td>NaN</td>\n      <td>NaN</td>\n      <td>NaN</td>\n      <td>NaN</td>\n      <td>NaN</td>\n      <td>NaN</td>\n      <td>NaN</td>\n      <td>10</td>\n      <td>NaN</td>\n    </tr>\n    <tr>\n      <th>top</th>\n      <td>NaN</td>\n      <td>NaN</td>\n      <td>tcp</td>\n      <td>-</td>\n      <td>FIN</td>\n      <td>NaN</td>\n      <td>NaN</td>\n      <td>NaN</td>\n      <td>NaN</td>\n      <td>NaN</td>\n      <td>...</td>\n      <td>NaN</td>\n      <td>NaN</td>\n      <td>NaN</td>\n      <td>NaN</td>\n      <td>NaN</td>\n      <td>NaN</td>\n      <td>NaN</td>\n      <td>NaN</td>\n      <td>Normal</td>\n      <td>NaN</td>\n    </tr>\n    <tr>\n      <th>freq</th>\n      <td>NaN</td>\n      <td>NaN</td>\n      <td>43095</td>\n      <td>47153</td>\n      <td>39339</td>\n      <td>NaN</td>\n      <td>NaN</td>\n      <td>NaN</td>\n      <td>NaN</td>\n      <td>NaN</td>\n      <td>...</td>\n      <td>NaN</td>\n      <td>NaN</td>\n      <td>NaN</td>\n      <td>NaN</td>\n      <td>NaN</td>\n      <td>NaN</td>\n      <td>NaN</td>\n      <td>NaN</td>\n      <td>37000</td>\n      <td>NaN</td>\n    </tr>\n    <tr>\n      <th>mean</th>\n      <td>41166.500000</td>\n      <td>1.006756</td>\n      <td>NaN</td>\n      <td>NaN</td>\n      <td>NaN</td>\n      <td>18.666472</td>\n      <td>17.545936</td>\n      <td>7.993908e+03</td>\n      <td>1.323379e+04</td>\n      <td>8.241089e+04</td>\n      <td>...</td>\n      <td>3.663011</td>\n      <td>7.456360</td>\n      <td>0.008284</td>\n      <td>0.008381</td>\n      <td>0.129743</td>\n      <td>6.468360</td>\n      <td>9.164262</td>\n      <td>0.011126</td>\n      <td>NaN</td>\n      <td>0.550600</td>\n    </tr>\n    <tr>\n      <th>std</th>\n      <td>23767.345519</td>\n      <td>4.710444</td>\n      <td>NaN</td>\n      <td>NaN</td>\n      <td>NaN</td>\n      <td>133.916353</td>\n      <td>115.574086</td>\n      <td>1.716423e+05</td>\n      <td>1.514715e+05</td>\n      <td>1.486204e+05</td>\n      <td>...</td>\n      <td>5.915386</td>\n      <td>11.415191</td>\n      <td>0.091171</td>\n      <td>0.092485</td>\n      <td>0.638683</td>\n      <td>8.543927</td>\n      <td>11.121413</td>\n      <td>0.104891</td>\n      <td>NaN</td>\n      <td>0.497436</td>\n    </tr>\n    <tr>\n      <th>min</th>\n      <td>1.000000</td>\n      <td>0.000000</td>\n      <td>NaN</td>\n      <td>NaN</td>\n      <td>NaN</td>\n      <td>1.000000</td>\n      <td>0.000000</td>\n      <td>2.400000e+01</td>\n      <td>0.000000e+00</td>\n      <td>0.000000e+00</td>\n      <td>...</td>\n      <td>1.000000</td>\n      <td>1.000000</td>\n      <td>0.000000</td>\n      <td>0.000000</td>\n      <td>0.000000</td>\n      <td>1.000000</td>\n      <td>1.000000</td>\n      <td>0.000000</td>\n      <td>NaN</td>\n      <td>0.000000</td>\n    </tr>\n    <tr>\n      <th>25%</th>\n      <td>20583.750000</td>\n      <td>0.000008</td>\n      <td>NaN</td>\n      <td>NaN</td>\n      <td>NaN</td>\n      <td>2.000000</td>\n      <td>0.000000</td>\n      <td>1.140000e+02</td>\n      <td>0.000000e+00</td>\n      <td>2.860611e+01</td>\n      <td>...</td>\n      <td>1.000000</td>\n      <td>1.000000</td>\n      <td>0.000000</td>\n      <td>0.000000</td>\n      <td>0.000000</td>\n      <td>1.000000</td>\n      <td>2.000000</td>\n      <td>0.000000</td>\n      <td>NaN</td>\n      <td>0.000000</td>\n    </tr>\n    <tr>\n      <th>50%</th>\n      <td>41166.500000</td>\n      <td>0.014138</td>\n      <td>NaN</td>\n      <td>NaN</td>\n      <td>NaN</td>\n      <td>6.000000</td>\n      <td>2.000000</td>\n      <td>5.340000e+02</td>\n      <td>1.780000e+02</td>\n      <td>2.650177e+03</td>\n      <td>...</td>\n      <td>1.000000</td>\n      <td>3.000000</td>\n      <td>0.000000</td>\n      <td>0.000000</td>\n      <td>0.000000</td>\n      <td>3.000000</td>\n      <td>5.000000</td>\n      <td>0.000000</td>\n      <td>NaN</td>\n      <td>1.000000</td>\n    </tr>\n    <tr>\n      <th>75%</th>\n      <td>61749.250000</td>\n      <td>0.719360</td>\n      <td>NaN</td>\n      <td>NaN</td>\n      <td>NaN</td>\n      <td>12.000000</td>\n      <td>10.000000</td>\n      <td>1.280000e+03</td>\n      <td>9.560000e+02</td>\n      <td>1.111111e+05</td>\n      <td>...</td>\n      <td>3.000000</td>\n      <td>6.000000</td>\n      <td>0.000000</td>\n      <td>0.000000</td>\n      <td>0.000000</td>\n      <td>7.000000</td>\n      <td>11.000000</td>\n      <td>0.000000</td>\n      <td>NaN</td>\n      <td>1.000000</td>\n    </tr>\n    <tr>\n      <th>max</th>\n      <td>82332.000000</td>\n      <td>59.999989</td>\n      <td>NaN</td>\n      <td>NaN</td>\n      <td>NaN</td>\n      <td>10646.000000</td>\n      <td>11018.000000</td>\n      <td>1.435577e+07</td>\n      <td>1.465753e+07</td>\n      <td>1.000000e+06</td>\n      <td>...</td>\n      <td>38.000000</td>\n      <td>63.000000</td>\n      <td>2.000000</td>\n      <td>2.000000</td>\n      <td>16.000000</td>\n      <td>60.000000</td>\n      <td>62.000000</td>\n      <td>1.000000</td>\n      <td>NaN</td>\n      <td>1.000000</td>\n    </tr>\n  </tbody>\n</table>\n<p>11 rows × 45 columns</p>\n</div>"
     },
     "execution_count": 2,
     "metadata": {},
     "output_type": "execute_result"
    }
   ],
   "source": [
    "# read data frame\n",
    "df = pd.read_csv('UNSW_NB15_training-set.csv')\n",
    "print(\"Shape of data frame \", df.shape[0])\n",
    "print(\"Set of 10 records\")\n",
    "df.head(10)\n",
    "\n",
    "df.describe(include = \"all\")"
   ]
  },
  {
   "cell_type": "markdown",
   "id": "63ea58ad",
   "metadata": {},
   "source": [
    "# Basic preprocessing"
   ]
  },
  {
   "cell_type": "code",
   "execution_count": 3,
   "id": "61c8f003",
   "metadata": {
    "ExecuteTime": {
     "end_time": "2024-04-24T00:27:21.880069600Z",
     "start_time": "2024-04-24T00:27:21.865871Z"
    }
   },
   "outputs": [],
   "source": [
    "# drop the id and attack category, not used \n",
    "list_drop = ['id','attack_cat']\n",
    "df.drop(list_drop, axis=1,inplace = True)\n"
   ]
  },
  {
   "cell_type": "code",
   "execution_count": 4,
   "id": "ad1f2456",
   "metadata": {
    "ExecuteTime": {
     "end_time": "2024-04-24T00:27:22.177431900Z",
     "start_time": "2024-04-24T00:27:21.882057100Z"
    }
   },
   "outputs": [
    {
     "name": "stdout",
     "output_type": "stream",
     "text": [
      "We need to be careful with the range anda values of the histogram:\n"
     ]
    },
    {
     "data": {
      "text/plain": "array([[<Axes: title={'center': 'label'}>]], dtype=object)"
     },
     "execution_count": 4,
     "metadata": {},
     "output_type": "execute_result"
    },
    {
     "data": {
      "text/plain": "<Figure size 640x480 with 1 Axes>",
      "image/png": "[encoded data removed]"
     },
     "metadata": {},
     "output_type": "display_data"
    }
   ],
   "source": [
    "print(\"We need to be careful with the range anda values of the histogram:\")\n",
    "df.hist(column = \"label\")"
   ]
  },
  {
   "cell_type": "code",
   "execution_count": 5,
   "id": "1fff1f47",
   "metadata": {
    "ExecuteTime": {
     "end_time": "2024-04-24T00:27:22.202747100Z",
     "start_time": "2024-04-24T00:27:22.177431900Z"
    }
   },
   "outputs": [
    {
     "name": "stdout",
     "output_type": "stream",
     "text": [
      "(37000, 43)\n",
      "(45332, 43)\n"
     ]
    }
   ],
   "source": [
    "#get set of records with label 0 and 1\n",
    "# Extract rows with label equal to 0\n",
    "rows_with_label_0 = df[df['label'] == 0]\n",
    "\n",
    "print(rows_with_label_0.shape)\n",
    "\n",
    "# Extract rows with label equal to 1\n",
    "rows_with_label_1 = df[df['label'] == 1]\n",
    "\n",
    "print(rows_with_label_1.shape)"
   ]
  },
  {
   "cell_type": "code",
   "execution_count": 6,
   "id": "618123be",
   "metadata": {
    "ExecuteTime": {
     "end_time": "2024-04-24T00:27:22.270745400Z",
     "start_time": "2024-04-24T00:27:22.199229300Z"
    }
   },
   "outputs": [],
   "source": [
    "def plot_histogram(hist_values, bin_edges, title = \"Histogram of Number of Rows with Label 0\"):\n",
    "    # Plot the histogram using matplotlib\n",
    "    plt.hist(hist_values, bins=bin_edges, edgecolor='black')\n",
    "    plt.title(title)\n",
    "    plt.xlabel(\"Number of Rows\")\n",
    "    plt.ylabel(\"Frequency\")\n",
    "    plt.show()"
   ]
  },
  {
   "cell_type": "markdown",
   "id": "d49c90ed",
   "metadata": {},
   "source": [
    "# Encode the categorical features\n",
    "The features state, protocol  and service (number 1, 2 and 3) are encoded  using one hot vector encoding, as those are categorical variables.\n",
    "\n"
   ]
  },
  {
   "cell_type": "markdown",
   "id": "cbf13250",
   "metadata": {},
   "source": [
    "## First reduce the cardinality to reduce one hot encoded features dimensionality"
   ]
  },
  {
   "cell_type": "code",
   "execution_count": 7,
   "id": "2984d2cf",
   "metadata": {
    "ExecuteTime": {
     "end_time": "2024-04-24T00:27:22.379916700Z",
     "start_time": "2024-04-24T00:27:22.203745900Z"
    }
   },
   "outputs": [
    {
     "name": "stdout",
     "output_type": "stream",
     "text": [
      "Original dimensionality before one hot encoding: \n",
      "X  shape  (82332, 42)\n",
      "Number of different values per column using the dataframe \n"
     ]
    },
    {
     "data": {
      "text/plain": "                 dur  proto service  state         spkts         dpkts  \\\ncount   82332.000000  82332   82332  82332  82332.000000  82332.000000   \nunique           NaN    131      13      7           NaN           NaN   \ntop              NaN    tcp       -    FIN           NaN           NaN   \nfreq             NaN  43095   47153  39339           NaN           NaN   \nmean        1.006756    NaN     NaN    NaN     18.666472     17.545936   \nstd         4.710444    NaN     NaN    NaN    133.916353    115.574086   \nmin         0.000000    NaN     NaN    NaN      1.000000      0.000000   \n25%         0.000008    NaN     NaN    NaN      2.000000      0.000000   \n50%         0.014138    NaN     NaN    NaN      6.000000      2.000000   \n75%         0.719360    NaN     NaN    NaN     12.000000     10.000000   \nmax        59.999989    NaN     NaN    NaN  10646.000000  11018.000000   \n\n              sbytes        dbytes          rate          sttl  ...  \\\ncount   8.233200e+04  8.233200e+04  8.233200e+04  82332.000000  ...   \nunique           NaN           NaN           NaN           NaN  ...   \ntop              NaN           NaN           NaN           NaN  ...   \nfreq             NaN           NaN           NaN           NaN  ...   \nmean    7.993908e+03  1.323379e+04  8.241089e+04    180.967667  ...   \nstd     1.716423e+05  1.514715e+05  1.486204e+05    101.513358  ...   \nmin     2.400000e+01  0.000000e+00  0.000000e+00      0.000000  ...   \n25%     1.140000e+02  0.000000e+00  2.860611e+01     62.000000  ...   \n50%     5.340000e+02  1.780000e+02  2.650177e+03    254.000000  ...   \n75%     1.280000e+03  9.560000e+02  1.111111e+05    254.000000  ...   \nmax     1.435577e+07  1.465753e+07  1.000000e+06    255.000000  ...   \n\n        ct_src_dport_ltm  ct_dst_sport_ltm  ct_dst_src_ltm  is_ftp_login  \\\ncount       82332.000000      82332.000000    82332.000000  82332.000000   \nunique               NaN               NaN             NaN           NaN   \ntop                  NaN               NaN             NaN           NaN   \nfreq                 NaN               NaN             NaN           NaN   \nmean            4.928898          3.663011        7.456360      0.008284   \nstd             8.389545          5.915386       11.415191      0.091171   \nmin             1.000000          1.000000        1.000000      0.000000   \n25%             1.000000          1.000000        1.000000      0.000000   \n50%             1.000000          1.000000        3.000000      0.000000   \n75%             4.000000          3.000000        6.000000      0.000000   \nmax            59.000000         38.000000       63.000000      2.000000   \n\n          ct_ftp_cmd  ct_flw_http_mthd    ct_src_ltm    ct_srv_dst  \\\ncount   82332.000000      82332.000000  82332.000000  82332.000000   \nunique           NaN               NaN           NaN           NaN   \ntop              NaN               NaN           NaN           NaN   \nfreq             NaN               NaN           NaN           NaN   \nmean        0.008381          0.129743      6.468360      9.164262   \nstd         0.092485          0.638683      8.543927     11.121413   \nmin         0.000000          0.000000      1.000000      1.000000   \n25%         0.000000          0.000000      1.000000      2.000000   \n50%         0.000000          0.000000      3.000000      5.000000   \n75%         0.000000          0.000000      7.000000     11.000000   \nmax         2.000000         16.000000     60.000000     62.000000   \n\n        is_sm_ips_ports         label  \ncount      82332.000000  82332.000000  \nunique              NaN           NaN  \ntop                 NaN           NaN  \nfreq                NaN           NaN  \nmean           0.011126      0.550600  \nstd            0.104891      0.497436  \nmin            0.000000      0.000000  \n25%            0.000000      0.000000  \n50%            0.000000      1.000000  \n75%            0.000000      1.000000  \nmax            1.000000      1.000000  \n\n[11 rows x 43 columns]",
      "text/html": "<div>\n<style scoped>\n    .dataframe tbody tr th:only-of-type {\n        vertical-align: middle;\n    }\n\n    .dataframe tbody tr th {\n        vertical-align: top;\n    }\n\n    .dataframe thead th {\n        text-align: right;\n    }\n</style>\n<table border=\"1\" class=\"dataframe\">\n  <thead>\n    <tr style=\"text-align: right;\">\n      <th></th>\n      <th>dur</th>\n      <th>proto</th>\n      <th>service</th>\n      <th>state</th>\n      <th>spkts</th>\n      <th>dpkts</th>\n      <th>sbytes</th>\n      <th>dbytes</th>\n      <th>rate</th>\n      <th>sttl</th>\n      <th>...</th>\n      <th>ct_src_dport_ltm</th>\n      <th>ct_dst_sport_ltm</th>\n      <th>ct_dst_src_ltm</th>\n      <th>is_ftp_login</th>\n      <th>ct_ftp_cmd</th>\n      <th>ct_flw_http_mthd</th>\n      <th>ct_src_ltm</th>\n      <th>ct_srv_dst</th>\n      <th>is_sm_ips_ports</th>\n      <th>label</th>\n    </tr>\n  </thead>\n  <tbody>\n    <tr>\n      <th>count</th>\n      <td>82332.000000</td>\n      <td>82332</td>\n      <td>82332</td>\n      <td>82332</td>\n      <td>82332.000000</td>\n      <td>82332.000000</td>\n      <td>8.233200e+04</td>\n      <td>8.233200e+04</td>\n      <td>8.233200e+04</td>\n      <td>82332.000000</td>\n      <td>...</td>\n      <td>82332.000000</td>\n      <td>82332.000000</td>\n      <td>82332.000000</td>\n      <td>82332.000000</td>\n      <td>82332.000000</td>\n      <td>82332.000000</td>\n      <td>82332.000000</td>\n      <td>82332.000000</td>\n      <td>82332.000000</td>\n      <td>82332.000000</td>\n    </tr>\n    <tr>\n      <th>unique</th>\n      <td>NaN</td>\n      <td>131</td>\n      <td>13</td>\n      <td>7</td>\n      <td>NaN</td>\n      <td>NaN</td>\n      <td>NaN</td>\n      <td>NaN</td>\n      <td>NaN</td>\n      <td>NaN</td>\n      <td>...</td>\n      <td>NaN</td>\n      <td>NaN</td>\n      <td>NaN</td>\n      <td>NaN</td>\n      <td>NaN</td>\n      <td>NaN</td>\n      <td>NaN</td>\n      <td>NaN</td>\n      <td>NaN</td>\n      <td>NaN</td>\n    </tr>\n    <tr>\n      <th>top</th>\n      <td>NaN</td>\n      <td>tcp</td>\n      <td>-</td>\n      <td>FIN</td>\n      <td>NaN</td>\n      <td>NaN</td>\n      <td>NaN</td>\n      <td>NaN</td>\n      <td>NaN</td>\n      <td>NaN</td>\n      <td>...</td>\n      <td>NaN</td>\n      <td>NaN</td>\n      <td>NaN</td>\n      <td>NaN</td>\n      <td>NaN</td>\n      <td>NaN</td>\n      <td>NaN</td>\n      <td>NaN</td>\n      <td>NaN</td>\n      <td>NaN</td>\n    </tr>\n    <tr>\n      <th>freq</th>\n      <td>NaN</td>\n      <td>43095</td>\n      <td>47153</td>\n      <td>39339</td>\n      <td>NaN</td>\n      <td>NaN</td>\n      <td>NaN</td>\n      <td>NaN</td>\n      <td>NaN</td>\n      <td>NaN</td>\n      <td>...</td>\n      <td>NaN</td>\n      <td>NaN</td>\n      <td>NaN</td>\n      <td>NaN</td>\n      <td>NaN</td>\n      <td>NaN</td>\n      <td>NaN</td>\n      <td>NaN</td>\n      <td>NaN</td>\n      <td>NaN</td>\n    </tr>\n    <tr>\n      <th>mean</th>\n      <td>1.006756</td>\n      <td>NaN</td>\n      <td>NaN</td>\n      <td>NaN</td>\n      <td>18.666472</td>\n      <td>17.545936</td>\n      <td>7.993908e+03</td>\n      <td>1.323379e+04</td>\n      <td>8.241089e+04</td>\n      <td>180.967667</td>\n      <td>...</td>\n      <td>4.928898</td>\n      <td>3.663011</td>\n      <td>7.456360</td>\n      <td>0.008284</td>\n      <td>0.008381</td>\n      <td>0.129743</td>\n      <td>6.468360</td>\n      <td>9.164262</td>\n      <td>0.011126</td>\n      <td>0.550600</td>\n    </tr>\n    <tr>\n      <th>std</th>\n      <td>4.710444</td>\n      <td>NaN</td>\n      <td>NaN</td>\n      <td>NaN</td>\n      <td>133.916353</td>\n      <td>115.574086</td>\n      <td>1.716423e+05</td>\n      <td>1.514715e+05</td>\n      <td>1.486204e+05</td>\n      <td>101.513358</td>\n      <td>...</td>\n      <td>8.389545</td>\n      <td>5.915386</td>\n      <td>11.415191</td>\n      <td>0.091171</td>\n      <td>0.092485</td>\n      <td>0.638683</td>\n      <td>8.543927</td>\n      <td>11.121413</td>\n      <td>0.104891</td>\n      <td>0.497436</td>\n    </tr>\n    <tr>\n      <th>min</th>\n      <td>0.000000</td>\n      <td>NaN</td>\n      <td>NaN</td>\n      <td>NaN</td>\n      <td>1.000000</td>\n      <td>0.000000</td>\n      <td>2.400000e+01</td>\n      <td>0.000000e+00</td>\n      <td>0.000000e+00</td>\n      <td>0.000000</td>\n      <td>...</td>\n      <td>1.000000</td>\n      <td>1.000000</td>\n      <td>1.000000</td>\n      <td>0.000000</td>\n      <td>0.000000</td>\n      <td>0.000000</td>\n      <td>1.000000</td>\n      <td>1.000000</td>\n      <td>0.000000</td>\n      <td>0.000000</td>\n    </tr>\n    <tr>\n      <th>25%</th>\n      <td>0.000008</td>\n      <td>NaN</td>\n      <td>NaN</td>\n      <td>NaN</td>\n      <td>2.000000</td>\n      <td>0.000000</td>\n      <td>1.140000e+02</td>\n      <td>0.000000e+00</td>\n      <td>2.860611e+01</td>\n      <td>62.000000</td>\n      <td>...</td>\n      <td>1.000000</td>\n      <td>1.000000</td>\n      <td>1.000000</td>\n      <td>0.000000</td>\n      <td>0.000000</td>\n      <td>0.000000</td>\n      <td>1.000000</td>\n      <td>2.000000</td>\n      <td>0.000000</td>\n      <td>0.000000</td>\n    </tr>\n    <tr>\n      <th>50%</th>\n      <td>0.014138</td>\n      <td>NaN</td>\n      <td>NaN</td>\n      <td>NaN</td>\n      <td>6.000000</td>\n      <td>2.000000</td>\n      <td>5.340000e+02</td>\n      <td>1.780000e+02</td>\n      <td>2.650177e+03</td>\n      <td>254.000000</td>\n      <td>...</td>\n      <td>1.000000</td>\n      <td>1.000000</td>\n      <td>3.000000</td>\n      <td>0.000000</td>\n      <td>0.000000</td>\n      <td>0.000000</td>\n      <td>3.000000</td>\n      <td>5.000000</td>\n      <td>0.000000</td>\n      <td>1.000000</td>\n    </tr>\n    <tr>\n      <th>75%</th>\n      <td>0.719360</td>\n      <td>NaN</td>\n      <td>NaN</td>\n      <td>NaN</td>\n      <td>12.000000</td>\n      <td>10.000000</td>\n      <td>1.280000e+03</td>\n      <td>9.560000e+02</td>\n      <td>1.111111e+05</td>\n      <td>254.000000</td>\n      <td>...</td>\n      <td>4.000000</td>\n      <td>3.000000</td>\n      <td>6.000000</td>\n      <td>0.000000</td>\n      <td>0.000000</td>\n      <td>0.000000</td>\n      <td>7.000000</td>\n      <td>11.000000</td>\n      <td>0.000000</td>\n      <td>1.000000</td>\n    </tr>\n    <tr>\n      <th>max</th>\n      <td>59.999989</td>\n      <td>NaN</td>\n      <td>NaN</td>\n      <td>NaN</td>\n      <td>10646.000000</td>\n      <td>11018.000000</td>\n      <td>1.435577e+07</td>\n      <td>1.465753e+07</td>\n      <td>1.000000e+06</td>\n      <td>255.000000</td>\n      <td>...</td>\n      <td>59.000000</td>\n      <td>38.000000</td>\n      <td>63.000000</td>\n      <td>2.000000</td>\n      <td>2.000000</td>\n      <td>16.000000</td>\n      <td>60.000000</td>\n      <td>62.000000</td>\n      <td>1.000000</td>\n      <td>1.000000</td>\n    </tr>\n  </tbody>\n</table>\n<p>11 rows × 43 columns</p>\n</div>"
     },
     "execution_count": 7,
     "metadata": {},
     "output_type": "execute_result"
    }
   ],
   "source": [
    "X = df.iloc[:,:-1]\n",
    "y = df.iloc[:,-1]\n",
    "\n",
    "X.head()\n",
    "feature_names = list(X.columns)\n",
    "print(\"Original dimensionality before one hot encoding: \")\n",
    "print(\"X  shape \", X.shape)\n",
    "\n",
    "print(\"Number of different values per column using the dataframe \")\n",
    "df.describe(include='all')\n",
    "\n",
    "\n"
   ]
  },
  {
   "cell_type": "markdown",
   "id": "d6fd2d76",
   "metadata": {},
   "source": [
    "The variable state has 7 different values, service 13 and protocol 131... perhaps there are too many values for each column. Therefore we can reduce the *cardinality* of the columns to use the 6 most frequent values. Otherwise, the dimensionality of the one hot vector variables will be too high!"
   ]
  },
  {
   "cell_type": "code",
   "execution_count": 8,
   "id": "4a8a219a",
   "metadata": {
    "ExecuteTime": {
     "end_time": "2024-04-24T00:27:22.432384100Z",
     "start_time": "2024-04-24T00:27:22.380917100Z"
    }
   },
   "outputs": [
    {
     "data": {
      "text/plain": "        proto service  state\ncount   82332   82332  82332\nunique    131      13      7\ntop       tcp       -    FIN\nfreq    43095   47153  39339",
      "text/html": "<div>\n<style scoped>\n    .dataframe tbody tr th:only-of-type {\n        vertical-align: middle;\n    }\n\n    .dataframe tbody tr th {\n        vertical-align: top;\n    }\n\n    .dataframe thead th {\n        text-align: right;\n    }\n</style>\n<table border=\"1\" class=\"dataframe\">\n  <thead>\n    <tr style=\"text-align: right;\">\n      <th></th>\n      <th>proto</th>\n      <th>service</th>\n      <th>state</th>\n    </tr>\n  </thead>\n  <tbody>\n    <tr>\n      <th>count</th>\n      <td>82332</td>\n      <td>82332</td>\n      <td>82332</td>\n    </tr>\n    <tr>\n      <th>unique</th>\n      <td>131</td>\n      <td>13</td>\n      <td>7</td>\n    </tr>\n    <tr>\n      <th>top</th>\n      <td>tcp</td>\n      <td>-</td>\n      <td>FIN</td>\n    </tr>\n    <tr>\n      <th>freq</th>\n      <td>43095</td>\n      <td>47153</td>\n      <td>39339</td>\n    </tr>\n  </tbody>\n</table>\n</div>"
     },
     "execution_count": 8,
     "metadata": {},
     "output_type": "execute_result"
    }
   ],
   "source": [
    "#data frame with only the categorical variables\n",
    "df_cat = df.select_dtypes(exclude=[np.number])\n",
    "df_cat.describe(include='all')\n",
    "\n",
    "#service also defines the '-' category (to represent an unknown service) \n"
   ]
  },
  {
   "cell_type": "code",
   "execution_count": 9,
   "id": "e5ecdc09",
   "metadata": {
    "ExecuteTime": {
     "end_time": "2024-04-24T00:27:22.577852500Z",
     "start_time": "2024-04-24T00:27:22.420385600Z"
    }
   },
   "outputs": [
    {
     "name": "stdout",
     "output_type": "stream",
     "text": [
      "proto\n",
      "nunique = 131\n",
      "Is the cardinality higher than 6?  True\n",
      "Number of preserved records:  77691\n",
      "New categories: (- takes the rest of categories) Index(['tcp', 'udp', 'unas', 'arp', 'ospf'], dtype='object', name='proto')\n",
      "----------------------------------------------------\n",
      "service\n",
      "nunique = 13\n",
      "Is the cardinality higher than 6?  True\n",
      "Number of preserved records:  80210\n",
      "New categories: (- takes the rest of categories) Index(['-', 'dns', 'http', 'smtp', 'ftp'], dtype='object', name='service')\n",
      "----------------------------------------------------\n",
      "state\n",
      "nunique = 7\n",
      "Is the cardinality higher than 6?  True\n",
      "Number of preserved records:  82330\n",
      "New categories: (- takes the rest of categories) Index(['FIN', 'INT', 'CON', 'REQ', 'ACC'], dtype='object', name='state')\n",
      "----------------------------------------------------\n"
     ]
    }
   ],
   "source": [
    "# Los valores fuera de los 6 mas frecuentes\n",
    "\n",
    "DEBUG = 1\n",
    "for feature in df_cat.columns:\n",
    "    if DEBUG == 1:\n",
    "        print(feature)\n",
    "        print('nunique = '+str(df_cat[feature].nunique()))\n",
    "        print(\"Is the cardinality higher than 6? \", df_cat[feature].nunique()>6)\n",
    "        print(\"Number of preserved records: \", sum(df[feature].isin(df[feature].value_counts().head().index)))\n",
    "        print(\"New categories: (- takes the rest of categories)\", df[feature].value_counts().head().index)\n",
    "        print('----------------------------------------------------')\n",
    "    \n",
    "    if df_cat[feature].nunique()>6:\n",
    "        #preserve only the records with values within the first 5 most frequent values (default by pandas)\n",
    "        #replace with '-' if the value is not between the 5 most frequent\n",
    "        df[feature] = np.where(df[feature].isin(df[feature].value_counts().head().index), df[feature], '-')\n",
    "        \n",
    "# Los valores en los menos frecuentes se pone un guion"
   ]
  },
  {
   "cell_type": "markdown",
   "id": "a1bce30f",
   "metadata": {},
   "source": [
    "Let's see how the dataframe of categorical variables ended (much less unique values must appear): "
   ]
  },
  {
   "cell_type": "code",
   "execution_count": 10,
   "id": "97e41b83",
   "metadata": {
    "ExecuteTime": {
     "end_time": "2024-04-24T00:27:22.676366900Z",
     "start_time": "2024-04-24T00:27:22.538568500Z"
    }
   },
   "outputs": [
    {
     "data": {
      "text/plain": "        proto service  state\ncount   82332   82332  82332\nunique      6       5      6\ntop       tcp       -    FIN\nfreq    43095   49275  39339",
      "text/html": "<div>\n<style scoped>\n    .dataframe tbody tr th:only-of-type {\n        vertical-align: middle;\n    }\n\n    .dataframe tbody tr th {\n        vertical-align: top;\n    }\n\n    .dataframe thead th {\n        text-align: right;\n    }\n</style>\n<table border=\"1\" class=\"dataframe\">\n  <thead>\n    <tr style=\"text-align: right;\">\n      <th></th>\n      <th>proto</th>\n      <th>service</th>\n      <th>state</th>\n    </tr>\n  </thead>\n  <tbody>\n    <tr>\n      <th>count</th>\n      <td>82332</td>\n      <td>82332</td>\n      <td>82332</td>\n    </tr>\n    <tr>\n      <th>unique</th>\n      <td>6</td>\n      <td>5</td>\n      <td>6</td>\n    </tr>\n    <tr>\n      <th>top</th>\n      <td>tcp</td>\n      <td>-</td>\n      <td>FIN</td>\n    </tr>\n    <tr>\n      <th>freq</th>\n      <td>43095</td>\n      <td>49275</td>\n      <td>39339</td>\n    </tr>\n  </tbody>\n</table>\n</div>"
     },
     "execution_count": 10,
     "metadata": {},
     "output_type": "execute_result"
    }
   ],
   "source": [
    "df_cat = df.select_dtypes(exclude=[np.number])\n",
    "df_cat.describe(include='all')"
   ]
  },
  {
   "cell_type": "markdown",
   "id": "8d3d30c6",
   "metadata": {},
   "source": [
    "## Encode cardinality reduced columns\n",
    "A total of 6 + 5 + 6 = 17 features are added, to the 42 - 3 = 39 features\n",
    "We yield then 39 + 17 = 56 columns or fields"
   ]
  },
  {
   "cell_type": "code",
   "execution_count": 11,
   "id": "d3302dda",
   "metadata": {
    "ExecuteTime": {
     "end_time": "2024-04-24T00:27:22.925361800Z",
     "start_time": "2024-04-24T00:27:22.576847200Z"
    }
   },
   "outputs": [
    {
     "name": "stdout",
     "output_type": "stream",
     "text": [
      "Number of features before one hot encoding:  42\n",
      "Number of features after one hot encoding:  (82332, 56)\n"
     ]
    }
   ],
   "source": [
    "from sklearn.compose import ColumnTransformer\n",
    "from sklearn.preprocessing import OneHotEncoder\n",
    "X = df.iloc[:,:-1]\n",
    "y = df.iloc[:,-1]\n",
    "feature_names = list(X.columns)\n",
    "print(\"Number of features before one hot encoding: \", len(feature_names))\n",
    "#create the one hot encoder transformer and transform:\n",
    "#columns 1, 2 and 3 are the ones to encode\n",
    "ct = ColumnTransformer(transformers=[('encoder', OneHotEncoder(), [1,2,3])], remainder='passthrough')\n",
    "X = np.array(ct.fit_transform(X))\n",
    "\n",
    "print(\"Number of features after one hot encoding: \", X.shape)"
   ]
  },
  {
   "cell_type": "markdown",
   "id": "562d9a6f",
   "metadata": {},
   "source": [
    "# Prepare for model training"
   ]
  },
  {
   "cell_type": "markdown",
   "id": "2dc29fce",
   "metadata": {},
   "source": [
    "## Model metrics"
   ]
  },
  {
   "cell_type": "code",
   "execution_count": 12,
   "id": "c377f6b6",
   "metadata": {
    "ExecuteTime": {
     "end_time": "2024-04-24T00:27:23.022925800Z",
     "start_time": "2024-04-24T00:27:22.921361800Z"
    }
   },
   "outputs": [
    {
     "name": "stdout",
     "output_type": "stream",
     "text": [
      "X_train \n",
      "  (57632, 56)\n",
      "X_test \n",
      " (24700, 56)\n"
     ]
    }
   ],
   "source": [
    "from sklearn.model_selection import train_test_split\n",
    "X_train, X_test, y_train, y_test = train_test_split(X, y, \n",
    "                                                    test_size = 0.3, \n",
    "                                                    random_state = 5,\n",
    "                                                    stratify = y)\n",
    "\n",
    "print(\"X_train \\n \", X_train.shape)\n",
    "#print(\"Primer observacion \", X_train[0, :])\n",
    "\n",
    "print(\"X_test \\n\", X_test.shape)"
   ]
  },
  {
   "cell_type": "code",
   "execution_count": 13,
   "id": "7e8e2838",
   "metadata": {
    "ExecuteTime": {
     "end_time": "2024-04-24T00:27:26.250992800Z",
     "start_time": "2024-04-24T00:27:23.024926700Z"
    }
   },
   "outputs": [
    {
     "name": "stdout",
     "output_type": "stream",
     "text": [
      "Requirement already satisfied: scikit-learn in c:\\users\\user\\appdata\\local\\programs\\python\\python312\\lib\\site-packages (1.4.2)\n",
      "Requirement already satisfied: numpy>=1.19.5 in c:\\users\\user\\appdata\\local\\programs\\python\\python312\\lib\\site-packages (from scikit-learn) (1.26.4)\n",
      "Requirement already satisfied: scipy>=1.6.0 in c:\\users\\user\\appdata\\local\\programs\\python\\python312\\lib\\site-packages (from scikit-learn) (1.12.0)\n",
      "Requirement already satisfied: joblib>=1.2.0 in c:\\users\\user\\appdata\\local\\programs\\python\\python312\\lib\\site-packages (from scikit-learn) (1.3.2)\n",
      "Requirement already satisfied: threadpoolctl>=2.0.0 in c:\\users\\user\\appdata\\local\\programs\\python\\python312\\lib\\site-packages (from scikit-learn) (3.4.0)\n"
     ]
    }
   ],
   "source": [
    "!pip install --upgrade scikit-learn"
   ]
  },
  {
   "cell_type": "code",
   "execution_count": 14,
   "id": "e477c089",
   "metadata": {
    "ExecuteTime": {
     "end_time": "2024-04-24T00:27:26.260132600Z",
     "start_time": "2024-04-24T00:27:26.251986100Z"
    }
   },
   "outputs": [],
   "source": [
    "from sklearn.metrics import f1_score, precision_score, recall_score, accuracy_score\n",
    "from sklearn.metrics import ConfusionMatrixDisplay # will plot the confusion matrix\n",
    "import time\n",
    "model_performance = pd.DataFrame(columns=['Accuracy','Recall','Precision','F1-Score','time to train','time to predict','total time'])\n"
   ]
  },
  {
   "cell_type": "markdown",
   "id": "00afbdc9",
   "metadata": {},
   "source": [
    "We are going to test a logistic regression"
   ]
  },
  {
   "cell_type": "code",
   "execution_count": 16,
   "id": "6346b565",
   "metadata": {
    "ExecuteTime": {
     "end_time": "2024-04-24T01:22:55.973859400Z",
     "start_time": "2024-04-24T00:35:47.617845500Z"
    }
   },
   "outputs": [
    {
     "name": "stderr",
     "output_type": "stream",
     "text": [
      "C:\\Users\\User\\AppData\\Local\\Programs\\Python\\Python312\\Lib\\site-packages\\sklearn\\linear_model\\_logistic.py:1407: RuntimeWarning: divide by zero encountered in log\n",
      "  return np.log(self.predict_proba(X))\n",
      "C:\\Users\\User\\AppData\\Local\\Programs\\Python\\Python312\\Lib\\site-packages\\sklearn\\linear_model\\_logistic.py:1407: RuntimeWarning: divide by zero encountered in log\n",
      "  return np.log(self.predict_proba(X))\n"
     ]
    },
    {
     "ename": "KeyboardInterrupt",
     "evalue": "",
     "output_type": "error",
     "traceback": [
      "\u001B[1;31m---------------------------------------------------------------------------\u001B[0m",
      "\u001B[1;31mKeyboardInterrupt\u001B[0m                         Traceback (most recent call last)",
      "Cell \u001B[1;32mIn[16], line 7\u001B[0m\n\u001B[0;32m      5\u001B[0m end_train \u001B[38;5;241m=\u001B[39m time\u001B[38;5;241m.\u001B[39mtime()\n\u001B[0;32m      6\u001B[0m y_predictions \u001B[38;5;241m=\u001B[39m model\u001B[38;5;241m.\u001B[39mpredict(X_test) \u001B[38;5;66;03m# These are the predictions from the test data.\u001B[39;00m\n\u001B[1;32m----> 7\u001B[0m \u001B[38;5;28mprint\u001B[39m(\u001B[38;5;124m\"\u001B[39m\u001B[38;5;124my_predictions \u001B[39m\u001B[38;5;130;01m\\n\u001B[39;00m\u001B[38;5;124m \u001B[39m\u001B[38;5;124m\"\u001B[39m, y_predictions)\n\u001B[0;32m      9\u001B[0m end_predict \u001B[38;5;241m=\u001B[39m time\u001B[38;5;241m.\u001B[39mtime()\n",
      "File \u001B[1;32m_pydevd_bundle\\\\pydevd_cython_win32_312_64.pyx:1187\u001B[0m, in \u001B[0;36m_pydevd_bundle.pydevd_cython_win32_312_64.SafeCallWrapper.__call__\u001B[1;34m()\u001B[0m\n",
      "File \u001B[1;32m_pydevd_bundle\\\\pydevd_cython_win32_312_64.pyx:627\u001B[0m, in \u001B[0;36m_pydevd_bundle.pydevd_cython_win32_312_64.PyDBFrame.trace_dispatch\u001B[1;34m()\u001B[0m\n",
      "File \u001B[1;32m_pydevd_bundle\\\\pydevd_cython_win32_312_64.pyx:937\u001B[0m, in \u001B[0;36m_pydevd_bundle.pydevd_cython_win32_312_64.PyDBFrame.trace_dispatch\u001B[1;34m()\u001B[0m\n",
      "File \u001B[1;32m_pydevd_bundle\\\\pydevd_cython_win32_312_64.pyx:928\u001B[0m, in \u001B[0;36m_pydevd_bundle.pydevd_cython_win32_312_64.PyDBFrame.trace_dispatch\u001B[1;34m()\u001B[0m\n",
      "File \u001B[1;32m_pydevd_bundle\\\\pydevd_cython_win32_312_64.pyx:585\u001B[0m, in \u001B[0;36m_pydevd_bundle.pydevd_cython_win32_312_64.PyDBFrame.do_wait_suspend\u001B[1;34m()\u001B[0m\n",
      "File \u001B[1;32mC:\\Program Files\\JetBrains\\PyCharm 2023.3.3\\plugins\\python\\helpers\\pydev\\pydevd.py:1184\u001B[0m, in \u001B[0;36mPyDB.do_wait_suspend\u001B[1;34m(self, thread, frame, event, arg, send_suspend_message, is_unhandled_exception)\u001B[0m\n\u001B[0;32m   1181\u001B[0m         from_this_thread\u001B[38;5;241m.\u001B[39mappend(frame_id)\n\u001B[0;32m   1183\u001B[0m \u001B[38;5;28;01mwith\u001B[39;00m \u001B[38;5;28mself\u001B[39m\u001B[38;5;241m.\u001B[39m_threads_suspended_single_notification\u001B[38;5;241m.\u001B[39mnotify_thread_suspended(thread_id, stop_reason):\n\u001B[1;32m-> 1184\u001B[0m     \u001B[38;5;28;43mself\u001B[39;49m\u001B[38;5;241;43m.\u001B[39;49m\u001B[43m_do_wait_suspend\u001B[49m\u001B[43m(\u001B[49m\u001B[43mthread\u001B[49m\u001B[43m,\u001B[49m\u001B[43m \u001B[49m\u001B[43mframe\u001B[49m\u001B[43m,\u001B[49m\u001B[43m \u001B[49m\u001B[43mevent\u001B[49m\u001B[43m,\u001B[49m\u001B[43m \u001B[49m\u001B[43marg\u001B[49m\u001B[43m,\u001B[49m\u001B[43m \u001B[49m\u001B[43msuspend_type\u001B[49m\u001B[43m,\u001B[49m\u001B[43m \u001B[49m\u001B[43mfrom_this_thread\u001B[49m\u001B[43m)\u001B[49m\n",
      "File \u001B[1;32mC:\\Program Files\\JetBrains\\PyCharm 2023.3.3\\plugins\\python\\helpers\\pydev\\pydevd.py:1199\u001B[0m, in \u001B[0;36mPyDB._do_wait_suspend\u001B[1;34m(self, thread, frame, event, arg, suspend_type, from_this_thread)\u001B[0m\n\u001B[0;32m   1196\u001B[0m             \u001B[38;5;28mself\u001B[39m\u001B[38;5;241m.\u001B[39m_call_mpl_hook()\n\u001B[0;32m   1198\u001B[0m         \u001B[38;5;28mself\u001B[39m\u001B[38;5;241m.\u001B[39mprocess_internal_commands()\n\u001B[1;32m-> 1199\u001B[0m         \u001B[43mtime\u001B[49m\u001B[38;5;241;43m.\u001B[39;49m\u001B[43msleep\u001B[49m\u001B[43m(\u001B[49m\u001B[38;5;241;43m0.01\u001B[39;49m\u001B[43m)\u001B[49m\n\u001B[0;32m   1201\u001B[0m \u001B[38;5;28mself\u001B[39m\u001B[38;5;241m.\u001B[39mcancel_async_evaluation(get_current_thread_id(thread), \u001B[38;5;28mstr\u001B[39m(\u001B[38;5;28mid\u001B[39m(frame)))\n\u001B[0;32m   1203\u001B[0m \u001B[38;5;66;03m# process any stepping instructions\u001B[39;00m\n",
      "\u001B[1;31mKeyboardInterrupt\u001B[0m: "
     ]
    }
   ],
   "source": [
    "#time\n",
    "from sklearn.linear_model import LogisticRegression\n",
    "start = time.time()\n",
    "model = LogisticRegression(max_iter = 10000, tol=0.0001).fit(X_train, y_train)\n",
    "end_train = time.time()\n",
    "y_predictions = model.predict(X_test) # These are the predictions from the test data.\n",
    "print(\"y_predictions \\n \", y_predictions)\n",
    "\n",
    "end_predict = time.time()"
   ]
  },
  {
   "cell_type": "code",
   "execution_count": 16,
   "id": "edeac4b8",
   "metadata": {},
   "outputs": [
    {
     "name": "stdout",
     "output_type": "stream",
     "text": [
      "y_predictions \n",
      "  [[0.45008742 0.54991258]\n",
      " [0.22066948 0.77933052]\n",
      " [0.53174227 0.46825773]\n",
      " ...\n",
      " [0.2887657  0.7112343 ]\n",
      " [0.220668   0.779332  ]\n",
      " [0.55327908 0.44672092]]\n"
     ]
    }
   ],
   "source": [
    "print(\"y_predictions \\n \", y_predictions)"
   ]
  },
  {
   "cell_type": "markdown",
   "id": "f665a831",
   "metadata": {},
   "source": [
    "#  Test model"
   ]
  },
  {
   "cell_type": "code",
   "execution_count": null,
   "id": "44084c88",
   "metadata": {},
   "outputs": [],
   "source": [
    "y_predictions = np.round(y_predictions).astype(int)\n",
    "y_test = np.round(y_test).astype(int)\n",
    "print(y_predictions)\n",
    "print(y_test)"
   ]
  },
  {
   "cell_type": "code",
   "execution_count": 25,
   "id": "c41ca06f",
   "metadata": {},
   "outputs": [
    {
     "ename": "ValueError",
     "evalue": "Classification metrics can't handle a mix of binary and multilabel-indicator targets",
     "output_type": "error",
     "traceback": [
      "\u001B[1;31m---------------------------------------------------------------------------\u001B[0m",
      "\u001B[1;31mValueError\u001B[0m                                Traceback (most recent call last)",
      "Input \u001B[1;32mIn [25]\u001B[0m, in \u001B[0;36m<cell line: 1>\u001B[1;34m()\u001B[0m\n\u001B[1;32m----> 1\u001B[0m accuracy \u001B[38;5;241m=\u001B[39m \u001B[43maccuracy_score\u001B[49m\u001B[43m(\u001B[49m\u001B[43my_test\u001B[49m\u001B[43m,\u001B[49m\u001B[43m \u001B[49m\u001B[43my_predictions\u001B[49m\u001B[43m)\u001B[49m\n\u001B[0;32m      2\u001B[0m recall \u001B[38;5;241m=\u001B[39m recall_score(y_test, y_predictions, average\u001B[38;5;241m=\u001B[39m\u001B[38;5;124m'\u001B[39m\u001B[38;5;124mweighted\u001B[39m\u001B[38;5;124m'\u001B[39m)\n\u001B[0;32m      3\u001B[0m precision \u001B[38;5;241m=\u001B[39m precision_score(y_test, y_predictions, average\u001B[38;5;241m=\u001B[39m\u001B[38;5;124m'\u001B[39m\u001B[38;5;124mweighted\u001B[39m\u001B[38;5;124m'\u001B[39m)\n",
      "File \u001B[1;32m~\\anaconda3\\lib\\site-packages\\sklearn\\utils\\_param_validation.py:213\u001B[0m, in \u001B[0;36mvalidate_params.<locals>.decorator.<locals>.wrapper\u001B[1;34m(*args, **kwargs)\u001B[0m\n\u001B[0;32m    207\u001B[0m \u001B[38;5;28;01mtry\u001B[39;00m:\n\u001B[0;32m    208\u001B[0m     \u001B[38;5;28;01mwith\u001B[39;00m config_context(\n\u001B[0;32m    209\u001B[0m         skip_parameter_validation\u001B[38;5;241m=\u001B[39m(\n\u001B[0;32m    210\u001B[0m             prefer_skip_nested_validation \u001B[38;5;129;01mor\u001B[39;00m global_skip_validation\n\u001B[0;32m    211\u001B[0m         )\n\u001B[0;32m    212\u001B[0m     ):\n\u001B[1;32m--> 213\u001B[0m         \u001B[38;5;28;01mreturn\u001B[39;00m func(\u001B[38;5;241m*\u001B[39margs, \u001B[38;5;241m*\u001B[39m\u001B[38;5;241m*\u001B[39mkwargs)\n\u001B[0;32m    214\u001B[0m \u001B[38;5;28;01mexcept\u001B[39;00m InvalidParameterError \u001B[38;5;28;01mas\u001B[39;00m e:\n\u001B[0;32m    215\u001B[0m     \u001B[38;5;66;03m# When the function is just a wrapper around an estimator, we allow\u001B[39;00m\n\u001B[0;32m    216\u001B[0m     \u001B[38;5;66;03m# the function to delegate validation to the estimator, but we replace\u001B[39;00m\n\u001B[0;32m    217\u001B[0m     \u001B[38;5;66;03m# the name of the estimator by the name of the function in the error\u001B[39;00m\n\u001B[0;32m    218\u001B[0m     \u001B[38;5;66;03m# message to avoid confusion.\u001B[39;00m\n\u001B[0;32m    219\u001B[0m     msg \u001B[38;5;241m=\u001B[39m re\u001B[38;5;241m.\u001B[39msub(\n\u001B[0;32m    220\u001B[0m         \u001B[38;5;124mr\u001B[39m\u001B[38;5;124m\"\u001B[39m\u001B[38;5;124mparameter of \u001B[39m\u001B[38;5;124m\\\u001B[39m\u001B[38;5;124mw+ must be\u001B[39m\u001B[38;5;124m\"\u001B[39m,\n\u001B[0;32m    221\u001B[0m         \u001B[38;5;124mf\u001B[39m\u001B[38;5;124m\"\u001B[39m\u001B[38;5;124mparameter of \u001B[39m\u001B[38;5;132;01m{\u001B[39;00mfunc\u001B[38;5;241m.\u001B[39m\u001B[38;5;18m__qualname__\u001B[39m\u001B[38;5;132;01m}\u001B[39;00m\u001B[38;5;124m must be\u001B[39m\u001B[38;5;124m\"\u001B[39m,\n\u001B[0;32m    222\u001B[0m         \u001B[38;5;28mstr\u001B[39m(e),\n\u001B[0;32m    223\u001B[0m     )\n",
      "File \u001B[1;32m~\\anaconda3\\lib\\site-packages\\sklearn\\metrics\\_classification.py:213\u001B[0m, in \u001B[0;36maccuracy_score\u001B[1;34m(y_true, y_pred, normalize, sample_weight)\u001B[0m\n\u001B[0;32m    147\u001B[0m \u001B[38;5;124;03m\"\"\"Accuracy classification score.\u001B[39;00m\n\u001B[0;32m    148\u001B[0m \n\u001B[0;32m    149\u001B[0m \u001B[38;5;124;03mIn multilabel classification, this function computes subset accuracy:\u001B[39;00m\n\u001B[1;32m   (...)\u001B[0m\n\u001B[0;32m    209\u001B[0m \u001B[38;5;124;03m0.5\u001B[39;00m\n\u001B[0;32m    210\u001B[0m \u001B[38;5;124;03m\"\"\"\u001B[39;00m\n\u001B[0;32m    212\u001B[0m \u001B[38;5;66;03m# Compute accuracy for each possible representation\u001B[39;00m\n\u001B[1;32m--> 213\u001B[0m y_type, y_true, y_pred \u001B[38;5;241m=\u001B[39m \u001B[43m_check_targets\u001B[49m\u001B[43m(\u001B[49m\u001B[43my_true\u001B[49m\u001B[43m,\u001B[49m\u001B[43m \u001B[49m\u001B[43my_pred\u001B[49m\u001B[43m)\u001B[49m\n\u001B[0;32m    214\u001B[0m check_consistent_length(y_true, y_pred, sample_weight)\n\u001B[0;32m    215\u001B[0m \u001B[38;5;28;01mif\u001B[39;00m y_type\u001B[38;5;241m.\u001B[39mstartswith(\u001B[38;5;124m\"\u001B[39m\u001B[38;5;124mmultilabel\u001B[39m\u001B[38;5;124m\"\u001B[39m):\n",
      "File \u001B[1;32m~\\anaconda3\\lib\\site-packages\\sklearn\\metrics\\_classification.py:94\u001B[0m, in \u001B[0;36m_check_targets\u001B[1;34m(y_true, y_pred)\u001B[0m\n\u001B[0;32m     91\u001B[0m     y_type \u001B[38;5;241m=\u001B[39m {\u001B[38;5;124m\"\u001B[39m\u001B[38;5;124mmulticlass\u001B[39m\u001B[38;5;124m\"\u001B[39m}\n\u001B[0;32m     93\u001B[0m \u001B[38;5;28;01mif\u001B[39;00m \u001B[38;5;28mlen\u001B[39m(y_type) \u001B[38;5;241m>\u001B[39m \u001B[38;5;241m1\u001B[39m:\n\u001B[1;32m---> 94\u001B[0m     \u001B[38;5;28;01mraise\u001B[39;00m \u001B[38;5;167;01mValueError\u001B[39;00m(\n\u001B[0;32m     95\u001B[0m         \u001B[38;5;124m\"\u001B[39m\u001B[38;5;124mClassification metrics can\u001B[39m\u001B[38;5;124m'\u001B[39m\u001B[38;5;124mt handle a mix of \u001B[39m\u001B[38;5;132;01m{0}\u001B[39;00m\u001B[38;5;124m and \u001B[39m\u001B[38;5;132;01m{1}\u001B[39;00m\u001B[38;5;124m targets\u001B[39m\u001B[38;5;124m\"\u001B[39m\u001B[38;5;241m.\u001B[39mformat(\n\u001B[0;32m     96\u001B[0m             type_true, type_pred\n\u001B[0;32m     97\u001B[0m         )\n\u001B[0;32m     98\u001B[0m     )\n\u001B[0;32m    100\u001B[0m \u001B[38;5;66;03m# We can't have more than one value on y_type => The set is no more needed\u001B[39;00m\n\u001B[0;32m    101\u001B[0m y_type \u001B[38;5;241m=\u001B[39m y_type\u001B[38;5;241m.\u001B[39mpop()\n",
      "\u001B[1;31mValueError\u001B[0m: Classification metrics can't handle a mix of binary and multilabel-indicator targets"
     ]
    }
   ],
   "source": [
    "\n",
    "\n",
    "accuracy = accuracy_score(y_test, y_predictions)\n",
    "recall = recall_score(y_test, y_predictions, average='weighted')\n",
    "precision = precision_score(y_test, y_predictions, average='weighted')\n",
    "f1s = f1_score(y_test, y_predictions, average='weighted')\n",
    "\n",
    "print(\"Accuracy: \"+ \"{:.2%}\".format(accuracy))\n",
    "print(\"Recall: \"+ \"{:.2%}\".format(recall))\n",
    "print(\"Precision: \"+ \"{:.2%}\".format(precision))\n",
    "print(\"F1-Score: \"+ \"{:.2%}\".format(f1s))\n",
    "print(\"time to train: \"+ \"{:.2f}\".format(end_train-start)+\" s\")\n",
    "print(\"time to predict: \"+\"{:.2f}\".format(end_predict-end_train)+\" s\")\n",
    "print(\"total: \"+\"{:.2f}\".format(end_predict-start)+\" s\")\n",
    "model_performance.loc['Logistic'] = [accuracy, recall, precision, f1s,end_train-start,end_predict-end_train,end_predict-start]"
   ]
  },
  {
   "cell_type": "markdown",
   "id": "f0fd83a2",
   "metadata": {},
   "source": [
    "# ECE calculation"
   ]
  },
  {
   "cell_type": "code",
   "execution_count": 43,
   "id": "a05a2be8",
   "metadata": {},
   "outputs": [
    {
     "name": "stdout",
     "output_type": "stream",
     "text": [
      "uncertainty_scores \n",
      "  tensor([0.5528, 0.7769, 0.5324,  ..., 0.7093, 0.7769, 0.5535],\n",
      "       dtype=torch.float64)\n"
     ]
    }
   ],
   "source": [
    "import torch\n",
    "uncertainty_scores, _ = torch.max(torch.tensor(y_predictions), dim = 1)\n",
    "print(\"uncertainty_scores \\n \", uncertainty_scores)"
   ]
  },
  {
   "cell_type": "code",
   "execution_count": null,
   "id": "c3662dcf",
   "metadata": {},
   "outputs": [],
   "source": []
  }
 ],
 "metadata": {
  "kernelspec": {
   "display_name": "Python 3 (ipykernel)",
   "language": "python",
   "name": "python3"
  },
  "language_info": {
   "codemirror_mode": {
    "name": "ipython",
    "version": 3
   },
   "file_extension": ".py",
   "mimetype": "text/x-python",
   "name": "python",
   "nbconvert_exporter": "python",
   "pygments_lexer": "ipython3",
   "version": "3.9.12"
  }
 },
 "nbformat": 4,
 "nbformat_minor": 5
}
