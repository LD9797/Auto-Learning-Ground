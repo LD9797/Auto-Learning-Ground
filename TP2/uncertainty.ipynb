{
 "cells": [
  {
   "cell_type": "markdown",
   "id": "560be29e8f3a2e57",
   "metadata": {
    "collapsed": false
   },
   "source": [
    "# Libraries and Dependencies"
   ]
  },
  {
   "cell_type": "code",
   "execution_count": 2,
   "id": "f63994ffd7fef635",
   "metadata": {
    "ExecuteTime": {
     "end_time": "2024-05-29T01:54:40.135724300Z",
     "start_time": "2024-05-29T01:54:36.053459400Z"
    },
    "collapsed": false
   },
   "outputs": [],
   "source": [
    "\"\"\"\n",
    "Pre-requisites for the notebook \n",
    "\"\"\"\n",
    "from torchmetrics import PearsonCorrCoef\n",
    "import pandas as pd\n",
    "import numpy as np\n",
    "from sklearn.compose import ColumnTransformer\n",
    "from sklearn.preprocessing import OneHotEncoder\n",
    "from sklearn.model_selection import train_test_split, KFold\n",
    "from sklearn.metrics import f1_score, accuracy_score\n",
    "import torch\n",
    "import matplotlib.pyplot as plt\n",
    "import warnings\n",
    "import time\n",
    "warnings.filterwarnings(\"ignore\", category=UserWarning)\n",
    "warnings.filterwarnings(\"ignore\", category=DeprecationWarning)"
   ]
  },
  {
   "cell_type": "markdown",
   "id": "4644c4034b21df24",
   "metadata": {
    "collapsed": false
   },
   "source": [
    "### One-Hot-Vector Codification"
   ]
  },
  {
   "cell_type": "code",
   "execution_count": 3,
   "id": "7351274cc11734a0",
   "metadata": {
    "ExecuteTime": {
     "end_time": "2024-05-29T01:54:40.409880600Z",
     "start_time": "2024-05-29T01:54:40.138724600Z"
    },
    "collapsed": false
   },
   "outputs": [],
   "source": [
    "\"\"\"\n",
    "This is the formatted code for the one-hot-vector encoding of the data. \n",
    "Only necessary code was included. Taken from the base code provided.\n",
    "\"\"\"\n",
    "\n",
    "# Read data frame\n",
    "df = pd.read_csv('UNSW_NB15_training-set.csv')\n",
    "\n",
    "# Drop the id and attack category, not used \n",
    "def basic_pre_processing():\n",
    "    list_drop = ['id', 'attack_cat']\n",
    "    df.drop(list_drop, axis=1, inplace=True)\n",
    "\n",
    "# Reduce the cardinality to reduce one hot encoded features dimensionality\n",
    "def codification_cat_data():\n",
    "    X = df.iloc[:, :-1]\n",
    "    X.head()\n",
    "    df_cat = df.select_dtypes(exclude=[np.number])\n",
    "    DEBUG = 0\n",
    "    for feature in df_cat.columns:\n",
    "        if DEBUG == 1:\n",
    "            print(feature)\n",
    "            print('nunique = ' + str(df_cat[feature].nunique()))\n",
    "            print(\"Is the cardinality higher than 6? \", df_cat[feature].nunique() > 6)\n",
    "            print(\"Number of preserved records: \", sum(df[feature].isin(df[feature].value_counts().head().index)))\n",
    "            print(\"New categories: (- takes the rest of categories)\", df[feature].value_counts().head().index)\n",
    "            print('----------------------------------------------------')\n",
    "        if df_cat[feature].nunique() > 6:\n",
    "            df[feature] = np.where(df[feature].isin(df[feature].value_counts().head().index), df[feature], '-')\n",
    "\n",
    "# Call previous functions to apply the codification\n",
    "def perform_codification():\n",
    "    basic_pre_processing()\n",
    "    codification_cat_data()\n",
    "    X = df.iloc[:, :-1]\n",
    "    y = df.iloc[:, -1]\n",
    "    ct = ColumnTransformer(transformers=[('encoder', OneHotEncoder(), [1, 2, 3])], remainder='passthrough')\n",
    "    X = np.array(ct.fit_transform(X))\n",
    "    return X, y"
   ]
  },
  {
   "cell_type": "markdown",
   "id": "cc2b64acaf73e0b1",
   "metadata": {
    "collapsed": false
   },
   "source": [
    "# Point 1 from TP\n",
    "\n",
    "1. (10 puntos) Particione los datos en 80% datos de entrenamiento y el restante 20% en datos de prueba. Para ese 20% de datos de prueba, reporte la tasa de aciertos y el F1-score para la clase ataque, para 30 corridas, usando todos los atributos del dataset. Como clasificador, implemente por su cuenta el algoritmo de minimos cuadrados. Los atributos categoricos deben ser representados usando la codificacion one-hot-vector. "
   ]
  },
  {
   "cell_type": "code",
   "execution_count": 4,
   "id": "f456e24ee9af770d",
   "metadata": {
    "ExecuteTime": {
     "end_time": "2024-05-29T01:54:40.577777200Z",
     "start_time": "2024-05-29T01:54:40.407375400Z"
    },
    "collapsed": false
   },
   "outputs": [],
   "source": [
    "X, y = perform_codification()\n",
    "\n",
    "def split_dataset(data, tags, test_size=0.20, random_state=None):\n",
    "    \"\"\"\n",
    "    Function to partition the dataset.\n",
    "    Default 80% train and 20% test.\n",
    "    :returns: x_train, x_test, y_train, y_test\n",
    "    \"\"\"\n",
    "    # Uses the function from scikit learn\n",
    "    x_train, x_test, y_train, y_test = train_test_split(data, tags, test_size=test_size, random_state=random_state)\n",
    "    return x_train, x_test, y_train, y_test\n",
    "\n",
    "\n",
    "def get_optimum_w_square_means(t, x):\n",
    "    \"\"\"\n",
    "    Function to obtain the optimal w for t (tags) and x (data).\n",
    "    :returns: optimal w\n",
    "    \"\"\"\n",
    "    # Applies the formula explained during class, to calculate w using vectors.\n",
    "    m_pinv = torch.pinverse(x)\n",
    "    w_opt = m_pinv.mm(t)\n",
    "    return w_opt\n",
    "\n",
    "\n",
    "def evaluate_model_original(data, w, activation_function=False):\n",
    "    \"\"\"\n",
    "    Function to evaluate the model.\n",
    "    It consists of the dot product between the data and the optimum w.\n",
    "    If the result is greater than zero then the class is 1. Otherwise, the class is 0.\n",
    "    :returns: the estimated tags.\n",
    "    \"\"\"\n",
    "    # Applies the activation function\n",
    "    y_out = data.mm(w)    \n",
    "    if activation_function:\n",
    "        y_out[y_out >= 0] = 1\n",
    "        y_out[y_out < 0] = 0\n",
    "    t_estimated = y_out\n",
    "    return t_estimated\n",
    "\n",
    "\n",
    "def evaluate_mean_square_error(t, t_estimated):\n",
    "    \"\"\"\n",
    "    Calculates the mean squared error for the tags and the estimated tags of the model.\n",
    "    :return: mean squared error\n",
    "    \"\"\"\n",
    "    # Using the MSE formula we calculate the error\n",
    "    error = torch.norm(t - t_estimated, 2) / (2 * t.shape[0])\n",
    "    return error"
   ]
  },
  {
   "cell_type": "markdown",
   "id": "cbd009491a06a39b",
   "metadata": {
    "collapsed": false
   },
   "source": [
    "### 30 Runs"
   ]
  },
  {
   "cell_type": "code",
   "execution_count": 5,
   "id": "803f0380a69ec06f",
   "metadata": {
    "ExecuteTime": {
     "end_time": "2024-05-29T01:54:44.886433300Z",
     "start_time": "2024-05-29T01:54:40.579777400Z"
    },
    "collapsed": false
   },
   "outputs": [
    {
     "data": {
      "text/html": [
       "<div>\n",
       "<style scoped>\n",
       "    .dataframe tbody tr th:only-of-type {\n",
       "        vertical-align: middle;\n",
       "    }\n",
       "\n",
       "    .dataframe tbody tr th {\n",
       "        vertical-align: top;\n",
       "    }\n",
       "\n",
       "    .dataframe thead th {\n",
       "        text-align: right;\n",
       "    }\n",
       "</style>\n",
       "<table border=\"1\" class=\"dataframe\">\n",
       "  <thead>\n",
       "    <tr style=\"text-align: right;\">\n",
       "      <th></th>\n",
       "      <th>error</th>\n",
       "      <th>accuracy</th>\n",
       "      <th>f1s</th>\n",
       "    </tr>\n",
       "  </thead>\n",
       "  <tbody>\n",
       "    <tr>\n",
       "      <th>Run #0</th>\n",
       "      <td>0.0022</td>\n",
       "      <td>0.671525</td>\n",
       "      <td>0.614719</td>\n",
       "    </tr>\n",
       "    <tr>\n",
       "      <th>Run #1</th>\n",
       "      <td>0.0023</td>\n",
       "      <td>0.664541</td>\n",
       "      <td>0.604048</td>\n",
       "    </tr>\n",
       "    <tr>\n",
       "      <th>Run #2</th>\n",
       "      <td>0.0022</td>\n",
       "      <td>0.669339</td>\n",
       "      <td>0.612458</td>\n",
       "    </tr>\n",
       "    <tr>\n",
       "      <th>Run #3</th>\n",
       "      <td>0.0022</td>\n",
       "      <td>0.672011</td>\n",
       "      <td>0.615483</td>\n",
       "    </tr>\n",
       "    <tr>\n",
       "      <th>Run #4</th>\n",
       "      <td>0.0022</td>\n",
       "      <td>0.672314</td>\n",
       "      <td>0.615476</td>\n",
       "    </tr>\n",
       "    <tr>\n",
       "      <th>Run #5</th>\n",
       "      <td>0.0022</td>\n",
       "      <td>0.670857</td>\n",
       "      <td>0.612944</td>\n",
       "    </tr>\n",
       "    <tr>\n",
       "      <th>Run #6</th>\n",
       "      <td>0.0022</td>\n",
       "      <td>0.668792</td>\n",
       "      <td>0.608859</td>\n",
       "    </tr>\n",
       "    <tr>\n",
       "      <th>Run #7</th>\n",
       "      <td>0.0022</td>\n",
       "      <td>0.669582</td>\n",
       "      <td>0.611837</td>\n",
       "    </tr>\n",
       "    <tr>\n",
       "      <th>Run #8</th>\n",
       "      <td>0.0022</td>\n",
       "      <td>0.667638</td>\n",
       "      <td>0.609234</td>\n",
       "    </tr>\n",
       "    <tr>\n",
       "      <th>Run #9</th>\n",
       "      <td>0.0022</td>\n",
       "      <td>0.668914</td>\n",
       "      <td>0.609881</td>\n",
       "    </tr>\n",
       "    <tr>\n",
       "      <th>Run #10</th>\n",
       "      <td>0.0022</td>\n",
       "      <td>0.672679</td>\n",
       "      <td>0.615014</td>\n",
       "    </tr>\n",
       "    <tr>\n",
       "      <th>Run #11</th>\n",
       "      <td>0.0023</td>\n",
       "      <td>0.665756</td>\n",
       "      <td>0.606139</td>\n",
       "    </tr>\n",
       "    <tr>\n",
       "      <th>Run #12</th>\n",
       "      <td>0.0022</td>\n",
       "      <td>0.672254</td>\n",
       "      <td>0.614974</td>\n",
       "    </tr>\n",
       "    <tr>\n",
       "      <th>Run #13</th>\n",
       "      <td>0.0022</td>\n",
       "      <td>0.672314</td>\n",
       "      <td>0.616100</td>\n",
       "    </tr>\n",
       "    <tr>\n",
       "      <th>Run #14</th>\n",
       "      <td>0.0022</td>\n",
       "      <td>0.668063</td>\n",
       "      <td>0.609855</td>\n",
       "    </tr>\n",
       "    <tr>\n",
       "      <th>Run #15</th>\n",
       "      <td>0.0023</td>\n",
       "      <td>0.663630</td>\n",
       "      <td>0.604439</td>\n",
       "    </tr>\n",
       "    <tr>\n",
       "      <th>Run #16</th>\n",
       "      <td>0.0023</td>\n",
       "      <td>0.666424</td>\n",
       "      <td>0.608496</td>\n",
       "    </tr>\n",
       "    <tr>\n",
       "      <th>Run #17</th>\n",
       "      <td>0.0023</td>\n",
       "      <td>0.664541</td>\n",
       "      <td>0.604677</td>\n",
       "    </tr>\n",
       "    <tr>\n",
       "      <th>Run #18</th>\n",
       "      <td>0.0022</td>\n",
       "      <td>0.666970</td>\n",
       "      <td>0.609781</td>\n",
       "    </tr>\n",
       "    <tr>\n",
       "      <th>Run #19</th>\n",
       "      <td>0.0023</td>\n",
       "      <td>0.663448</td>\n",
       "      <td>0.604687</td>\n",
       "    </tr>\n",
       "    <tr>\n",
       "      <th>Run #20</th>\n",
       "      <td>0.0022</td>\n",
       "      <td>0.667395</td>\n",
       "      <td>0.609085</td>\n",
       "    </tr>\n",
       "    <tr>\n",
       "      <th>Run #21</th>\n",
       "      <td>0.0022</td>\n",
       "      <td>0.671707</td>\n",
       "      <td>0.615683</td>\n",
       "    </tr>\n",
       "    <tr>\n",
       "      <th>Run #22</th>\n",
       "      <td>0.0023</td>\n",
       "      <td>0.663934</td>\n",
       "      <td>0.604497</td>\n",
       "    </tr>\n",
       "    <tr>\n",
       "      <th>Run #23</th>\n",
       "      <td>0.0022</td>\n",
       "      <td>0.667578</td>\n",
       "      <td>0.609786</td>\n",
       "    </tr>\n",
       "    <tr>\n",
       "      <th>Run #24</th>\n",
       "      <td>0.0023</td>\n",
       "      <td>0.657315</td>\n",
       "      <td>0.595946</td>\n",
       "    </tr>\n",
       "    <tr>\n",
       "      <th>Run #25</th>\n",
       "      <td>0.0023</td>\n",
       "      <td>0.663630</td>\n",
       "      <td>0.602736</td>\n",
       "    </tr>\n",
       "    <tr>\n",
       "      <th>Run #26</th>\n",
       "      <td>0.0022</td>\n",
       "      <td>0.671343</td>\n",
       "      <td>0.613925</td>\n",
       "    </tr>\n",
       "    <tr>\n",
       "      <th>Run #27</th>\n",
       "      <td>0.0022</td>\n",
       "      <td>0.669156</td>\n",
       "      <td>0.611037</td>\n",
       "    </tr>\n",
       "    <tr>\n",
       "      <th>Run #28</th>\n",
       "      <td>0.0023</td>\n",
       "      <td>0.663873</td>\n",
       "      <td>0.604682</td>\n",
       "    </tr>\n",
       "    <tr>\n",
       "      <th>Run #29</th>\n",
       "      <td>0.0023</td>\n",
       "      <td>0.659319</td>\n",
       "      <td>0.596438</td>\n",
       "    </tr>\n",
       "  </tbody>\n",
       "</table>\n",
       "</div>"
      ],
      "text/plain": [
       "          error  accuracy       f1s\n",
       "Run #0   0.0022  0.671525  0.614719\n",
       "Run #1   0.0023  0.664541  0.604048\n",
       "Run #2   0.0022  0.669339  0.612458\n",
       "Run #3   0.0022  0.672011  0.615483\n",
       "Run #4   0.0022  0.672314  0.615476\n",
       "Run #5   0.0022  0.670857  0.612944\n",
       "Run #6   0.0022  0.668792  0.608859\n",
       "Run #7   0.0022  0.669582  0.611837\n",
       "Run #8   0.0022  0.667638  0.609234\n",
       "Run #9   0.0022  0.668914  0.609881\n",
       "Run #10  0.0022  0.672679  0.615014\n",
       "Run #11  0.0023  0.665756  0.606139\n",
       "Run #12  0.0022  0.672254  0.614974\n",
       "Run #13  0.0022  0.672314  0.616100\n",
       "Run #14  0.0022  0.668063  0.609855\n",
       "Run #15  0.0023  0.663630  0.604439\n",
       "Run #16  0.0023  0.666424  0.608496\n",
       "Run #17  0.0023  0.664541  0.604677\n",
       "Run #18  0.0022  0.666970  0.609781\n",
       "Run #19  0.0023  0.663448  0.604687\n",
       "Run #20  0.0022  0.667395  0.609085\n",
       "Run #21  0.0022  0.671707  0.615683\n",
       "Run #22  0.0023  0.663934  0.604497\n",
       "Run #23  0.0022  0.667578  0.609786\n",
       "Run #24  0.0023  0.657315  0.595946\n",
       "Run #25  0.0023  0.663630  0.602736\n",
       "Run #26  0.0022  0.671343  0.613925\n",
       "Run #27  0.0022  0.669156  0.611037\n",
       "Run #28  0.0023  0.663873  0.604682\n",
       "Run #29  0.0023  0.659319  0.596438"
      ]
     },
     "execution_count": 5,
     "metadata": {},
     "output_type": "execute_result"
    }
   ],
   "source": [
    "def run_30():\n",
    "    \"\"\"\n",
    "    Partitions the data, calculates the optimum w, and returns the error, accuracy, and f1 scores.\n",
    "    It performs this process 30 times.\n",
    "    :return: a log of the results.\n",
    "    \"\"\"\n",
    "    # Dictionary variable to save the results\n",
    "    log = {}\n",
    "    for i in range(30):\n",
    "        x_train, x_test, y_train, y_test = split_dataset(X, y)\n",
    "\n",
    "        # Training model\n",
    "        train = torch.tensor(x_train)\n",
    "        targets = torch.tensor(y_train.to_numpy()).unsqueeze(1).to(torch.float64)\n",
    "        w_opt = get_optimum_w_square_means(targets, train)\n",
    "\n",
    "        # Testing model\n",
    "        test = torch.tensor(x_test)\n",
    "        test_targets = torch.tensor(y_test.to_numpy()).unsqueeze(1).to(torch.float64)\n",
    "        targets_estimated = evaluate_model_original(test, w_opt, activation_function=True)\n",
    "\n",
    "        # Calculating error, accuracy and f1 score\n",
    "        error = evaluate_mean_square_error(test_targets, targets_estimated)\n",
    "        accuracy = accuracy_score(test_targets, targets_estimated)\n",
    "        f1s = f1_score(test_targets, targets_estimated, average='weighted')\n",
    "\n",
    "        # Saving results in the log\n",
    "        log[f\"Run #{i}\"] = {'error': round(error.item(), 4), 'accuracy': accuracy, 'f1s': f1s}\n",
    "    return log\n",
    "\n",
    "# Calling the functions to get the results\n",
    "log = run_30()\n",
    "log_data_frame = pd.DataFrame.from_dict(log)\n",
    "pd.DataFrame.transpose(log_data_frame)"
   ]
  },
  {
   "cell_type": "markdown",
   "id": "54d803ee2d167d5c",
   "metadata": {
    "collapsed": false
   },
   "source": [
    "# Point 2 from TP\n",
    "\n",
    "2. (30 puntos) Implemente la funcion calculate_expected_calibration_error(X, y, uncertainties), el cual tome como entrada un conjunto de observaciones junto con sus etiquetas correctas (ground truth) y sus cuantificaciones de incertidumbre, y calcule el expected calibration error (ECE) según lo explicado en el material de apoyo.\n",
    "\n",
    "    \\\n",
    "    a) Diseñe y documente los resultados de al menos dos pruebas unitarias.  "
   ]
  },
  {
   "cell_type": "markdown",
   "id": "d547f143e95c4087",
   "metadata": {
    "collapsed": false
   },
   "source": [
    "### ECE calculate_expected_calibration_error"
   ]
  },
  {
   "cell_type": "code",
   "execution_count": 6,
   "id": "a1124dca89c035df",
   "metadata": {
    "ExecuteTime": {
     "end_time": "2024-05-29T01:54:44.918065700Z",
     "start_time": "2024-05-29T01:54:44.884432100Z"
    },
    "collapsed": false
   },
   "outputs": [],
   "source": [
    "def calculate_expected_calibration_error(x_in, y_real, uncertainties, y_predicted, n_bins=10, plot=True):\n",
    "    \"\"\"\n",
    "    Calculates ECE by comparing bin average uncertainties with bin accuracies using Pearson coefficient.\n",
    "    Uses n_bins for grouping uncertainties, default is 10. Can optionally plot the accuracy chart.\n",
    "    :return: normalized ECE value between 0 and 1\n",
    "    \"\"\"\n",
    "    # Calculate bins ranges\n",
    "    bins = create_bins_and_append_prediction_to_values(uncertainties, y_real, y_predicted, n_bins)\n",
    "    # Calculate the accuracy of each bin\n",
    "    accuracy_bins = torch.tensor([calculate_accuracy_bin(bins[bin_num]) for bin_num in bins])\n",
    "\n",
    "    # Calculate the average uncertainty of each bin\n",
    "    bin_average_uncertainty = [sum(data[0] for data in bins[in_bin]) / len(bins[in_bin]) for in_bin in bins]\n",
    "    bin_average_uncertainty = torch.tensor(bin_average_uncertainty)\n",
    "\n",
    "    # Pearson coefficient calculation\n",
    "    pearson = PearsonCorrCoef()\n",
    "    pearson_corr = pearson(bin_average_uncertainty, accuracy_bins).nan_to_num().item()\n",
    "    \n",
    "    # Plotting: bin_average_uncertainty -> Acts as X | accuracy_bins -> Acts as Y\n",
    "    if plot:\n",
    "        plot_bin_accuracy_chart(bins, accuracy_bins, bin_average_uncertainty)\n",
    "\n",
    "    # Convert pearson coefficient into 0-1 range, where values near 0 represents high calibration \n",
    "    ece = 1 - abs(pearson_corr)\n",
    "    return max(0, min(ece, 1))\n",
    "\n",
    "\n",
    "def create_bins_and_append_prediction_to_values(uncertainties, y_real, y_predicted, n_bins):\n",
    "    \"\"\"\n",
    "    Groups predictions into bins based on uncertainty quantiles.\n",
    "    Maps each prediction to a bin for subsequent accuracy and uncertainty calculations.\n",
    "    Also checks if predictions match real labels.\n",
    "    :return: Dictionary of bins with each bin containing tuples of (uncertainty, prediction match).\n",
    "    \"\"\"\n",
    "    # Convert uncertainties to torch tensor for quantile calculations\n",
    "    uncertainties_np = torch.tensor(uncertainties).to(torch.float64)\n",
    "\n",
    "    # Calculate quantiles to define bin edges\n",
    "    quantiles = torch.linspace(0, 1, n_bins + 1).to(torch.float64)\n",
    "    bin_edges = torch.quantile(uncertainties_np, quantiles)\n",
    "\n",
    "    # Create bins\n",
    "    bins = {i: [] for i in range(n_bins)}\n",
    "\n",
    "    # Assign values to bins\n",
    "    for uncertainty, real_label, predicted_label in zip(uncertainties, y_real, y_predicted):\n",
    "        # Determine the bin index by finding the first bin edge that is greater than the uncertainty\n",
    "        index = torch.searchsorted(bin_edges, uncertainty, right=True) - 1\n",
    "        index = min(index.item(), n_bins - 1)  # Ensure the value equal to max_val is included in the last bin\n",
    "        prediction = (predicted_label >= 0).to(torch.float64) == real_label\n",
    "        bins[index].append((uncertainty, prediction))\n",
    "\n",
    "    return bins\n",
    "\n",
    "\n",
    "def calculate_accuracy_bin(in_bin):\n",
    "    \"\"\"\n",
    "    Calculates the percentage accuracy for a bin of predictions.\n",
    "    If the bin is empty, returns 0.\n",
    "    :return: Accuracy as a percentage of correct predictions in the bin.\n",
    "    \"\"\"\n",
    "    # Check if the bin is empty\n",
    "    if len(in_bin) == 0:\n",
    "        return 0\n",
    "    \n",
    "    # Calculate the number of correct predictions inside the bin\n",
    "    correct_predictions = 0\n",
    "    for value in in_bin:\n",
    "        correct_predictions += 1 if value[1] else 0\n",
    "    \n",
    "    # Get the accuracy percentage using the total bin size\n",
    "    total_predictions = len(in_bin)\n",
    "    accuracy = (correct_predictions / total_predictions) * 100\n",
    "    return accuracy\n",
    "\n",
    "\n",
    "def plot_bin_accuracy_chart(bins, accuracy_bins, bin_average_uncertainty):\n",
    "    \"\"\"\n",
    "    Plots a chart showing the accuracy per bin along with the average uncertainty.\n",
    "    Visualizes each bin's accuracy with red dots and dashed lines for bin edges.\n",
    "    Enhances the x-axis with custom tick labels showing bin numbers and average uncertainty.\n",
    "    :return: None; displays the plot directly.\n",
    "    \"\"\"\n",
    "    bin_edges_visual = torch.linspace(min(bins[0])[0].item(), max(bins[len(bins) - 1])[0].item(), steps=len(bins) + 1)\n",
    "    bin_centers_visual = 0.5 * (bin_edges_visual[:-1] + bin_edges_visual[1:])\n",
    "\n",
    "    # Create the figure and axis.\n",
    "    fig, ax = plt.subplots(figsize=(10, 7))\n",
    "\n",
    "    # Plot a dot in the middle of each bin.\n",
    "    for center, value in zip(bin_centers_visual, accuracy_bins):\n",
    "        ax.plot(center, value, 'ro')  # 'ro' for red circle\n",
    "\n",
    "    # Print average uncertainty for each bin in x-axis.\n",
    "    custom_ticks = [center for center in bin_centers_visual]\n",
    "    ax.set_xticks(custom_ticks)\n",
    "    ax.set_xticklabels([f\"#{bin_num + 1}\" for bin_num in range(len(bin_average_uncertainty))])\n",
    "\n",
    "    # Add a line for each bin edge\n",
    "    for edge in bin_edges_visual:\n",
    "        ax.axvline(edge, color='red', linestyle='dashed', linewidth=1)\n",
    "\n",
    "    # Set axis labels and title.\n",
    "    ax.set_xlabel('')\n",
    "    ax.set_ylabel('Accuracy')\n",
    "    ax.set_title('Accuracy per Bin for ECE calculation')\n",
    "\n",
    "    # Set y-axis limits to fit the range of bin values.\n",
    "    ax.set_ylim(-10, 110)\n",
    "\n",
    "    # Print bin number in secondary x-axis.\n",
    "    ax2 = ax.twiny()\n",
    "    ax2.xaxis.set_ticks_position('bottom')\n",
    "    ax2.xaxis.set_label_position('bottom')\n",
    "    ax2.spines['bottom'].set_position(('outward', 17))\n",
    "    ax2.set_xlabel('Bin Number and Average Uncertainty (Variance)')\n",
    "    ax2.set_xticks(custom_ticks)\n",
    "    custom_labels = [f\"{\"{:.1e}\".format(round(bin_num.item(), 5))}\" for index, bin_num in\n",
    "                     enumerate(bin_average_uncertainty)]\n",
    "    ax2.set_xticklabels(custom_labels)\n",
    "    ax2.set_xlim(ax.get_xlim())\n",
    "    ax2.spines['bottom'].set_visible(False)\n",
    "\n",
    "    plt.show()"
   ]
  },
  {
   "cell_type": "markdown",
   "id": "87a6d8e26ba4f4b",
   "metadata": {
    "collapsed": false
   },
   "source": [
    "### Unit Tests"
   ]
  },
  {
   "cell_type": "code",
   "execution_count": 7,
   "id": "4f3d1d4afead18d1",
   "metadata": {
    "ExecuteTime": {
     "end_time": "2024-05-29T01:54:45.674272300Z",
     "start_time": "2024-05-29T01:54:44.903986800Z"
    },
    "collapsed": false
   },
   "outputs": [
    {
     "data": {
      "image/png": "[encoded data removed]",
      "text/plain": [
       "<Figure size 1000x700 with 2 Axes>"
      ]
     },
     "metadata": {},
     "output_type": "display_data"
    },
    {
     "name": "stdout",
     "output_type": "stream",
     "text": [
      "Worse Calibration Test:\n",
      "Result: Passed! \n",
      "Calculated ECE: 1.0 \n",
      "Expected: 1.0\n"
     ]
    },
    {
     "data": {
      "image/png": "[encoded data removed]",
      "text/plain": [
       "<Figure size 1000x700 with 2 Axes>"
      ]
     },
     "metadata": {},
     "output_type": "display_data"
    },
    {
     "name": "stdout",
     "output_type": "stream",
     "text": [
      "Perfect Calibration Test:\n",
      "Result Passed! \n",
      "Calculated ECE: 0 \n",
      "Expected: 0\n"
     ]
    }
   ],
   "source": [
    "def test_calculate_expected_calibration_error_worse_calibration():\n",
    "    \"\"\"\n",
    "    Tests the calculate_expected_calibration_error function to ensure it returns an ECE of 1,\n",
    "    indicating maximum miscalibration, under predefined worse calibration conditions.\n",
    "    Asserts the correctness of the ECE calculation.\n",
    "    :return: Prints success message with calculated ECE and expected value.\n",
    "    \"\"\"\n",
    "    # Using an example previously checked, the values for scores and y_estimated were retrieved for this test\n",
    "    example_variances = torch.tensor([0.000814, 0.000343, 0.000491, 0.000273, 0.000321, 0.000325, 0.000034, 0.000678, 0.000084, 0.00041])\n",
    "    example_y_outputs = torch.tensor([0.871897, -0.095776, -0.199759, 1.157389, 0.4576, 0.455021, 0.95016, 0.559645, 0.901524, 0.493699])\n",
    "    example_y_real = [0, 1, 1, 0, 0, 0, 0, 0, 0, 0]\n",
    "    \n",
    "    # The ece is evaluated using the values of a not calibrated scenario\n",
    "    ece = calculate_expected_calibration_error(None, example_y_real, example_variances, example_y_outputs, plot=True)\n",
    "    assert ece == 1\n",
    "    print(\"Worse Calibration Test:\")\n",
    "    print(f\"Result: Passed! \\nCalculated ECE: {ece} \\nExpected: 1.0\")\n",
    "\n",
    "\n",
    "def test_calculate_expected_calibration_error_perfect_calibration():\n",
    "    \"\"\"\n",
    "    Tests the calculate_expected_calibration_error function to ensure it returns an ECE of 0,\n",
    "    indicating perfect calibration, under predefined perfect calibration conditions.\n",
    "    Asserts the correctness of the ECE calculation.\n",
    "    :return: Prints success message with calculated ECE and expected value.\n",
    "    \"\"\"\n",
    "    # Using an example previously checked, the values for scores and y_estimated were retrieved for this test\n",
    "    example_variances = torch.tensor([0.000814, 0.000343, 0.000491, 0.000273, 0.000321, 0.000325, 0.000034, 0.000678, 0.000084, 0.00041])\n",
    "    example_y_outputs = torch.tensor([0.871897, -0.095776, -0.199759, 1.157389, -0.4576, -0.455021, 0.95016, 0.559645, 0.901524, 0.493699])\n",
    "    example_y_real = [1, 0, 0, 1, 0, 0, 1, 1, 1, 1]\n",
    "    \n",
    "    # The ece is evaluated using the values of a fully calibrated scenario\n",
    "    ece = calculate_expected_calibration_error(None, example_y_real, example_variances, example_y_outputs, plot=True)\n",
    "    assert ece == 0\n",
    "    print(\"Perfect Calibration Test:\")\n",
    "    print(f\"Result Passed! \\nCalculated ECE: {ece} \\nExpected: 0\")\n",
    "    \n",
    "test_calculate_expected_calibration_error_worse_calibration()\n",
    "print(\"\\n\")\n",
    "test_calculate_expected_calibration_error_perfect_calibration()"
   ]
  },
  {
   "cell_type": "markdown",
   "id": "ab8eb53f861294fe",
   "metadata": {
    "collapsed": false
   },
   "source": [
    "# Point 3 from TP\n",
    "\n",
    "3. (30 puntos) Implemente el algoritmo de estimacion de incertidumbre de ensamble detallado en el material de apoyo. Para ello, hagalo en la funcion quantify_uncertainty_ensemble(x, model, N = 10) el cual cuantifique la incertidumbre para una entrada $\\overrightarrow{x}\\in\\mathbb{R}^{D}$, y retorne tal resultado. Hagalo usando modelos de minimos cuadrados de clasificacion. Utilice la salida del producto punto (sin pasar por la funcion de activacion del modelo), para obtener los puntajes de los miembros del ensamble. Se recomienda dividir la implementacion de esta funcion en la funcion train_ensemble la cual entrene los miembros del ensamble, y run_ensemble_uq la cual tome el ensamble anteriormente construido y evalue la varianza de las salidas. \n",
    "    \\\n",
    "    a) Diseñe y documente los resultados de al menos dos pruebas unitarias."
   ]
  },
  {
   "cell_type": "markdown",
   "id": "544d742b169c9626",
   "metadata": {
    "collapsed": false
   },
   "source": [
    "###  Uncertainty Ensemble quantify_uncertainty_ensemble"
   ]
  },
  {
   "cell_type": "code",
   "execution_count": 8,
   "id": "d40b4db20baddf3f",
   "metadata": {
    "ExecuteTime": {
     "end_time": "2024-05-29T01:54:45.676280Z",
     "start_time": "2024-05-29T01:54:45.516918400Z"
    },
    "collapsed": false
   },
   "outputs": [],
   "source": [
    "def quantify_uncertainty_ensemble(x_test, model, n_ensemble=10, ensemble=None, random_state=None):\n",
    "    \"\"\"\n",
    "    Generates ensemble predictions and calculates the variance and mean prediction for each test sample.\n",
    "    Uses an ensemble of models to quantify uncertainty in predictions.\n",
    "    :return: Tensors of variances and mean predictions.\n",
    "    \"\"\"\n",
    "    # If no ensemble is provided, build one\n",
    "    if ensemble is None:\n",
    "        ensemble = train_ensemble(n_ensemble, random_state=random_state)\n",
    "    # T estimated outputs from the ensemble\n",
    "    y_outputs = run_ensemble_uq(x_test, ensemble, model)\n",
    "    # Passing entries to X axis and ensemble weights to Y axis\n",
    "    # Each cell shows the estimated output per ensemble weight\n",
    "    y_outputs_stacked = torch.stack(y_outputs).squeeze(-1).t()\n",
    "    variances = []\n",
    "    predictions = []\n",
    "    # Each y_out represents the estimated output among all ensemble weights\n",
    "    for y_out in y_outputs_stacked:\n",
    "        # Uncertainty calculated utilizing the variance\n",
    "        var_xi = torch.var(y_out)\n",
    "        # Prediction calculated with the average of the predictions per weight \n",
    "        predicted_y = torch.mean(y_out)\n",
    "        variances.append(var_xi)\n",
    "        predictions.append(predicted_y)\n",
    "    return torch.tensor(variances), torch.tensor(predictions)\n",
    "\n",
    "\n",
    "def train_ensemble(n, x_train=None, y_train=None, random_state=None):\n",
    "    \"\"\"\n",
    "    Trains an ensemble of models using K-fold training subsets.\n",
    "    Handles data splitting if training data is not provided.\n",
    "    :return: List of trained ensemble weights.\n",
    "    \"\"\"\n",
    "    # In case no training data is provided, create new training data with 70% train and 30% test \n",
    "    if x_train is None or y_train is None:\n",
    "        x_train, _, y_train, _ = split_dataset(X, y, test_size=0.3, random_state=random_state)\n",
    "    # Obtaining the training data splits to train the weights for the ensemble          \n",
    "    train_splits = kfold_split(x_train, y_train.to_numpy(), n, random_state=random_state)\n",
    "    weights = []\n",
    "    for split in train_splits:\n",
    "        x_split = torch.tensor(split[0])\n",
    "        y_split = torch.tensor(split[1]).unsqueeze(1).to(torch.float64)\n",
    "        # Running the training function \n",
    "        w_opt = get_optimum_w_square_means(y_split, x_split)\n",
    "        weights.append(w_opt)\n",
    "    return weights\n",
    "\n",
    "\n",
    "def kfold_split(features, labels, n_splits, random_state=None):\n",
    "    \"\"\"\n",
    "    Splits the dataset into training and testing subsets using K-fold cross-validation.\n",
    "    :return: List of tuples containing feature subsets and corresponding labels for each fold.\n",
    "    \"\"\"\n",
    "    kf = KFold(n_splits=n_splits, shuffle=True, random_state=random_state)  # Using a random state for reproducibility\n",
    "    # This will store the training subsets and their corresponding labels\n",
    "    subsets = []\n",
    "    \n",
    "    # Building subsets with kf.split\n",
    "    for train_index, test_index in kf.split(features):\n",
    "        feature_subset = features[test_index]\n",
    "        label_subset = labels[test_index]\n",
    "        subsets.append((feature_subset, label_subset))\n",
    "\n",
    "    return subsets\n",
    "\n",
    "\n",
    "def run_ensemble_uq(x, ensemble, model):\n",
    "    \"\"\"\n",
    "    Generates ensemble predictions by running the model with each ensemble member on input x.\n",
    "    :return: List of outputs from each ensemble model.\n",
    "    \"\"\"\n",
    "    # Running Forward function for each weight in ensemble \n",
    "    y_outputs = [model(x, indv_weight) for indv_weight in ensemble]\n",
    "    return y_outputs"
   ]
  },
  {
   "cell_type": "markdown",
   "id": "4cc6df8183c21b43",
   "metadata": {
    "collapsed": false
   },
   "source": [
    "### Unit Tests"
   ]
  },
  {
   "cell_type": "code",
   "execution_count": 9,
   "id": "c21059a6057cc241",
   "metadata": {
    "ExecuteTime": {
     "end_time": "2024-05-29T01:54:46.208102400Z",
     "start_time": "2024-05-29T01:54:45.526433700Z"
    },
    "collapsed": false
   },
   "outputs": [
    {
     "name": "stdout",
     "output_type": "stream",
     "text": [
      "Single Entry Test:\n",
      "Result: Passed! \n",
      "Calculated Variance: 0.002 \n",
      "Expected: 0.002\n",
      "Estimated Output: 0.011 \n",
      "Expected: 0.011\n",
      "\n",
      "\n",
      "Multiple Entry Test:\n",
      "Result: Passed! \n",
      "Calculated Variance: [0.0024, 0.0001, 0.0004] \n",
      "Expected: [0.0024, 0.0001, 0.0004]\n",
      "Estimated Outputs: [0.0108, 0.9777, 0.8247] \n",
      "Expected: [0.0108, 0.9777, 0.8247]\n"
     ]
    }
   ],
   "source": [
    "def test_quantify_uncertainty_ensemble_individual_entry():\n",
    "    \"\"\"\n",
    "    Tests the quantify_uncertainty_ensemble function for a single test entry.\n",
    "    Ensures the calculated variance and output matches expected values for a consistent dataset.\n",
    "    :return: Prints results and asserts the correct computation of variance and output.\n",
    "    \"\"\"\n",
    "    # Splitting dataset with random state 42 to ensure reproducibility\n",
    "    x_train, x_test, y_train, y_test = split_dataset(X, y, random_state=42)\n",
    "    # Individual entry\n",
    "    entry = torch.tensor(x_test[0]).unsqueeze(-1).t().to(torch.float64)\n",
    "    # Passing entry to the ensemble \n",
    "    variance, y_outputs = quantify_uncertainty_ensemble(entry, evaluate_model_original, n_ensemble=10, random_state=42)\n",
    "    # Rounding the outputs for visibility\n",
    "    variance = round(variance.item(), 3)\n",
    "    y_outputs = round(y_outputs.item(), 3)\n",
    "    assert variance == 0.002\n",
    "    assert y_outputs == 0.011\n",
    "    print(\"Single Entry Test:\")\n",
    "    print(f\"Result: Passed! \\nCalculated Variance: {variance} \\nExpected: {0.002}\")\n",
    "    print(f\"Estimated Output: {y_outputs} \\nExpected: {0.011}\")\n",
    "\n",
    "\n",
    "def test_quantify_uncertainty_ensemble_multiple_entry():\n",
    "    \"\"\"\n",
    "    Tests the quantify_uncertainty_ensemble function for multiple test entries.\n",
    "    Ensures the calculated variance and outputs match expected values for a set of consistent test data.\n",
    "    :return: Prints results and asserts the correct computation for an array of variances and outputs.\n",
    "    \"\"\"\n",
    "    # Splitting dataset with random state 42 to ensure reproducibility\n",
    "    x_train, x_test, y_train, y_test = split_dataset(X, y, random_state=42)   \n",
    "    x_test = torch.tensor(x_test)\n",
    "    # Gathering multiple entries and stacking them into a tensor\n",
    "    entries = torch.stack([x_test[0], x_test[1], x_test[2]])\n",
    "    variance, y_outputs = quantify_uncertainty_ensemble(entries, evaluate_model_original, n_ensemble=10, random_state=42)\n",
    "    # Rounding the outputs for visibility\n",
    "    variance = [round(x, 4) for x in list(variance.numpy())]\n",
    "    y_outputs = [round(x, 4) for x in list(y_outputs.numpy())]\n",
    "    assert variance == [0.0024, 0.0001, 0.0004]\n",
    "    assert y_outputs == [0.0108, 0.9777, 0.8247]\n",
    "    print(\"Multiple Entry Test:\")\n",
    "    print(f\"Result: Passed! \\nCalculated Variance: {variance} \\nExpected: [0.0024, 0.0001, 0.0004]\")\n",
    "    print(f\"Estimated Outputs: {y_outputs} \\nExpected: [0.0108, 0.9777, 0.8247]\")\n",
    "    \n",
    "test_quantify_uncertainty_ensemble_individual_entry()\n",
    "print(\"\\n\")\n",
    "test_quantify_uncertainty_ensemble_multiple_entry()"
   ]
  },
  {
   "cell_type": "markdown",
   "id": "9fced7fe95e82d70",
   "metadata": {
    "collapsed": false
   },
   "source": [
    "# Point 4 from TP\n",
    "\n",
    "4. (30 puntos) Documente las siguientes pruebas: mida el ECE y el tiempo de ejecucion usando la funcion anterior, y un conjunto de datos de prueba correspondiente al 30% de los datos provistos. El 70% de los datos restantes se usaran para entrenar el o los modelos necesarios. Realice lo anterior para las siguientes configuraciones:\n",
    "\\\n",
    "    a) N=10. \n",
    "\\\n",
    "    b) N=100\n",
    "\\\n",
    "    c) N=1000\n",
    "\\\n",
    "    Realice 10 particiones de test/training para calcular el ECE promedio por cada configuracion. Reporte el ECE promedio, y desviacion estandar de cada configuracion probada. Grafique los resultados de forma ordenada y clara, y comentelos. "
   ]
  },
  {
   "cell_type": "code",
   "execution_count": 84,
   "id": "2b55ed77e6ff31",
   "metadata": {
    "ExecuteTime": {
     "end_time": "2024-05-29T02:35:18.636189900Z",
     "start_time": "2024-05-29T02:35:18.535178400Z"
    },
    "collapsed": false
   },
   "outputs": [],
   "source": [
    "def run_tests(n):\n",
    "    \"\"\"\n",
    "    Executes multiple testing cycles on ensemble models to measure calibration error.\n",
    "    Runs tests across 10 different dataset splits to calculate and analyze ECE.\n",
    "    Calculates average ECE, its standard deviation, and logs each test's results.\n",
    "    :return: A dictionary with overall results including elapsed time and ECE statistics,\n",
    "             and a dictionary with ECE results per iteration.\n",
    "    \"\"\"      \n",
    "    # List to save ECE scores per iteration (partition)\n",
    "    calculated_ece_list = []\n",
    "    \n",
    "    start_time = time.time()\n",
    "    for i in range(10):\n",
    "        # Splitting using random_state to ensure reproducibility\n",
    "        x_train, x_test, y_train, y_test = split_dataset(X, y, test_size=0.30, random_state=42+i)\n",
    "        # Training ensemble\n",
    "        trained_ensemble = train_ensemble(n, x_train, y_train, random_state=42+i)\n",
    "        x_test = torch.tensor(x_test)\n",
    "        variance, y_outputs = quantify_uncertainty_ensemble(x_test, evaluate_model_original, ensemble=trained_ensemble)        \n",
    "        ece = calculate_expected_calibration_error(x_test, y_train, variance, y_outputs, plot=False)\n",
    "        calculated_ece_list.append(ece)\n",
    "    \n",
    "    # Calculate average ECE and STD from calculated_ece_list\n",
    "    calculated_ece_list = torch.tensor(calculated_ece_list)\n",
    "    avg_ece = torch.mean(calculated_ece_list)\n",
    "    std = torch.std(calculated_ece_list)\n",
    "    \n",
    "    end_time = time.time()\n",
    "    elapsed_time = end_time - start_time\n",
    "    \n",
    "    # Preparing Results to display\n",
    "    results = {f\"N={n}\": {\"Elapsed time\": elapsed_time,\n",
    "                          \"Average ECE\": round(avg_ece.item(), 4),\n",
    "                          \"Standard Deviation\": round(std.item(), 4)}}\n",
    "    \n",
    "    results_per_iteration = {f\"Iteration #{index + 1}\": round(data.item(), 4) for index, data in enumerate(calculated_ece_list)}\n",
    "            \n",
    "    plot_results(calculated_ece_list, avg_ece, std, n)    \n",
    "    return results, results_per_iteration\n",
    "\n",
    "\n",
    "def plot_results(test_partition_ece, average_ece, std, n_configuration):\n",
    "    \"\"\"\n",
    "    Plots ECE values across different partitions, highlighting the average ECE and standard deviation.\n",
    "    Visualizes calibration performance for a given ensemble configuration.\n",
    "    :return: None; displays a plot.\n",
    "    \"\"\"\n",
    "    x_linspace = torch.linspace(0, len(test_partition_ece), steps=len(test_partition_ece) + 1)\n",
    "    y_centers = 0.5 * (x_linspace[:-1] + x_linspace[1:])\n",
    "\n",
    "    # Create the figure and axis.\n",
    "    fig, ax = plt.subplots(figsize=(10, 7))\n",
    "\n",
    "    # Plot a dot in the middle.\n",
    "    for center, value in zip(y_centers, test_partition_ece):\n",
    "        ax.plot(center, value, 'ro')  # 'ro' for red circle\n",
    "\n",
    "    # Print labels.\n",
    "    custom_ticks = [center for center in y_centers]\n",
    "    ax.set_xticks(custom_ticks)\n",
    "    ax.set_xticklabels([f\"#{bin_num + 1}\" for bin_num in range(len(test_partition_ece))])\n",
    "\n",
    "    # Add a line for each partition.\n",
    "    for edge in x_linspace:\n",
    "        ax.axvline(edge, color='red', linestyle='dashed', linewidth=1)\n",
    "\n",
    "    # Adding Labels to Chart \n",
    "    ax.set_xlabel('Partition number (iteration)')\n",
    "    ax.set_ylabel('ECE')\n",
    "    ax.set_ylim(0, 1)\n",
    "    ax.set_title(f'Partitions ECE values | Configuration N={n_configuration}'\n",
    "                 f' \\n Average ECE: {round(average_ece.item(), 4)} '\n",
    "                 f'| Standard Deviation: {round(std.item(), 4)}')\n",
    "\n",
    "    plt.show()"
   ]
  },
  {
   "cell_type": "markdown",
   "id": "1b2bf71e95e59b70",
   "metadata": {
    "collapsed": false
   },
   "source": [
    "# Testing configurations\n",
    "### Testing N = 10"
   ]
  },
  {
   "cell_type": "code",
   "execution_count": 85,
   "id": "dea14d46dd6882f2",
   "metadata": {
    "ExecuteTime": {
     "end_time": "2024-05-29T02:35:42.988647100Z",
     "start_time": "2024-05-29T02:35:19.222156300Z"
    },
    "collapsed": false
   },
   "outputs": [
    {
     "data": {
      "image/png": "[encoded data removed]",
      "text/plain": [
       "<Figure size 1000x700 with 1 Axes>"
      ]
     },
     "metadata": {},
     "output_type": "display_data"
    }
   ],
   "source": [
    "# Running the tests for the configuration with N = 10\n",
    "results, results_per_iteration = run_tests(10)\n",
    "results_data_frame = pd.DataFrame.from_dict(results)\n",
    "results_per_iteration_data_frame = pd.DataFrame(results_per_iteration, index=[\"ECE\"])"
   ]
  },
  {
   "cell_type": "code",
   "execution_count": 86,
   "id": "119c540d775ec232",
   "metadata": {
    "ExecuteTime": {
     "end_time": "2024-05-29T02:35:43.014949Z",
     "start_time": "2024-05-29T02:35:42.984646600Z"
    },
    "collapsed": false
   },
   "outputs": [
    {
     "name": "stdout",
     "output_type": "stream",
     "text": [
      "Results for configuration N=10\n"
     ]
    },
    {
     "data": {
      "text/html": [
       "<div>\n",
       "<style scoped>\n",
       "    .dataframe tbody tr th:only-of-type {\n",
       "        vertical-align: middle;\n",
       "    }\n",
       "\n",
       "    .dataframe tbody tr th {\n",
       "        vertical-align: top;\n",
       "    }\n",
       "\n",
       "    .dataframe thead th {\n",
       "        text-align: right;\n",
       "    }\n",
       "</style>\n",
       "<table border=\"1\" class=\"dataframe\">\n",
       "  <thead>\n",
       "    <tr style=\"text-align: right;\">\n",
       "      <th></th>\n",
       "      <th>N=10</th>\n",
       "    </tr>\n",
       "  </thead>\n",
       "  <tbody>\n",
       "    <tr>\n",
       "      <th>Elapsed time</th>\n",
       "      <td>23.531909</td>\n",
       "    </tr>\n",
       "    <tr>\n",
       "      <th>Average ECE</th>\n",
       "      <td>0.648800</td>\n",
       "    </tr>\n",
       "    <tr>\n",
       "      <th>Standard Deviation</th>\n",
       "      <td>0.252400</td>\n",
       "    </tr>\n",
       "  </tbody>\n",
       "</table>\n",
       "</div>"
      ],
      "text/plain": [
       "                         N=10\n",
       "Elapsed time        23.531909\n",
       "Average ECE          0.648800\n",
       "Standard Deviation   0.252400"
      ]
     },
     "execution_count": 86,
     "metadata": {},
     "output_type": "execute_result"
    }
   ],
   "source": [
    "# Printing the tests for the configuration with N = 10\n",
    "print(f\"Results for configuration N=10\")\n",
    "results_data_frame"
   ]
  },
  {
   "cell_type": "code",
   "execution_count": 87,
   "id": "181cd596cf892f3d",
   "metadata": {
    "ExecuteTime": {
     "end_time": "2024-05-29T02:35:43.455975Z",
     "start_time": "2024-05-29T02:35:42.997957700Z"
    },
    "collapsed": false
   },
   "outputs": [
    {
     "name": "stdout",
     "output_type": "stream",
     "text": [
      "Results Per Iteration for configuration N=10\n"
     ]
    },
    {
     "data": {
      "text/html": [
       "<div>\n",
       "<style scoped>\n",
       "    .dataframe tbody tr th:only-of-type {\n",
       "        vertical-align: middle;\n",
       "    }\n",
       "\n",
       "    .dataframe tbody tr th {\n",
       "        vertical-align: top;\n",
       "    }\n",
       "\n",
       "    .dataframe thead th {\n",
       "        text-align: right;\n",
       "    }\n",
       "</style>\n",
       "<table border=\"1\" class=\"dataframe\">\n",
       "  <thead>\n",
       "    <tr style=\"text-align: right;\">\n",
       "      <th></th>\n",
       "      <th>ECE</th>\n",
       "    </tr>\n",
       "  </thead>\n",
       "  <tbody>\n",
       "    <tr>\n",
       "      <th>Iteration #1</th>\n",
       "      <td>0.7279</td>\n",
       "    </tr>\n",
       "    <tr>\n",
       "      <th>Iteration #2</th>\n",
       "      <td>0.6347</td>\n",
       "    </tr>\n",
       "    <tr>\n",
       "      <th>Iteration #3</th>\n",
       "      <td>0.9086</td>\n",
       "    </tr>\n",
       "    <tr>\n",
       "      <th>Iteration #4</th>\n",
       "      <td>0.8100</td>\n",
       "    </tr>\n",
       "    <tr>\n",
       "      <th>Iteration #5</th>\n",
       "      <td>0.9355</td>\n",
       "    </tr>\n",
       "    <tr>\n",
       "      <th>Iteration #6</th>\n",
       "      <td>0.1767</td>\n",
       "    </tr>\n",
       "    <tr>\n",
       "      <th>Iteration #7</th>\n",
       "      <td>0.4072</td>\n",
       "    </tr>\n",
       "    <tr>\n",
       "      <th>Iteration #8</th>\n",
       "      <td>0.7797</td>\n",
       "    </tr>\n",
       "    <tr>\n",
       "      <th>Iteration #9</th>\n",
       "      <td>0.7478</td>\n",
       "    </tr>\n",
       "    <tr>\n",
       "      <th>Iteration #10</th>\n",
       "      <td>0.3604</td>\n",
       "    </tr>\n",
       "  </tbody>\n",
       "</table>\n",
       "</div>"
      ],
      "text/plain": [
       "                  ECE\n",
       "Iteration #1   0.7279\n",
       "Iteration #2   0.6347\n",
       "Iteration #3   0.9086\n",
       "Iteration #4   0.8100\n",
       "Iteration #5   0.9355\n",
       "Iteration #6   0.1767\n",
       "Iteration #7   0.4072\n",
       "Iteration #8   0.7797\n",
       "Iteration #9   0.7478\n",
       "Iteration #10  0.3604"
      ]
     },
     "execution_count": 87,
     "metadata": {},
     "output_type": "execute_result"
    }
   ],
   "source": [
    "# Printing results per iteration for the configuration with N = 10\n",
    "print(\"Results Per Iteration for configuration N=10\")\n",
    "pd.DataFrame.transpose(results_per_iteration_data_frame)"
   ]
  },
  {
   "cell_type": "markdown",
   "id": "596aae93e1ffa4a3",
   "metadata": {
    "collapsed": false
   },
   "source": [
    "### Testing N = 100"
   ]
  },
  {
   "cell_type": "code",
   "execution_count": 88,
   "id": "ec0fc39e3af849e7",
   "metadata": {
    "ExecuteTime": {
     "end_time": "2024-05-29T02:36:08.870135100Z",
     "start_time": "2024-05-29T02:35:43.010415900Z"
    },
    "collapsed": false
   },
   "outputs": [
    {
     "data": {
      "image/png": "[encoded data removed]",
      "text/plain": [
       "<Figure size 1000x700 with 1 Axes>"
      ]
     },
     "metadata": {},
     "output_type": "display_data"
    }
   ],
   "source": [
    "# Running the tests for the configuration with N = 100\n",
    "results, results_per_iteration = run_tests(100)\n",
    "results_data_frame = pd.DataFrame.from_dict(results)\n",
    "results_per_iteration_data_frame = pd.DataFrame(results_per_iteration, index=[\"ECE\"])"
   ]
  },
  {
   "cell_type": "code",
   "execution_count": 89,
   "id": "137202cac2a49c60",
   "metadata": {
    "ExecuteTime": {
     "end_time": "2024-05-29T02:36:08.899357300Z",
     "start_time": "2024-05-29T02:36:08.866142300Z"
    },
    "collapsed": false
   },
   "outputs": [
    {
     "name": "stdout",
     "output_type": "stream",
     "text": [
      "Results for configuration N=100\n"
     ]
    },
    {
     "data": {
      "text/html": [
       "<div>\n",
       "<style scoped>\n",
       "    .dataframe tbody tr th:only-of-type {\n",
       "        vertical-align: middle;\n",
       "    }\n",
       "\n",
       "    .dataframe tbody tr th {\n",
       "        vertical-align: top;\n",
       "    }\n",
       "\n",
       "    .dataframe thead th {\n",
       "        text-align: right;\n",
       "    }\n",
       "</style>\n",
       "<table border=\"1\" class=\"dataframe\">\n",
       "  <thead>\n",
       "    <tr style=\"text-align: right;\">\n",
       "      <th></th>\n",
       "      <th>N=100</th>\n",
       "    </tr>\n",
       "  </thead>\n",
       "  <tbody>\n",
       "    <tr>\n",
       "      <th>Elapsed time</th>\n",
       "      <td>25.592349</td>\n",
       "    </tr>\n",
       "    <tr>\n",
       "      <th>Average ECE</th>\n",
       "      <td>0.642300</td>\n",
       "    </tr>\n",
       "    <tr>\n",
       "      <th>Standard Deviation</th>\n",
       "      <td>0.278200</td>\n",
       "    </tr>\n",
       "  </tbody>\n",
       "</table>\n",
       "</div>"
      ],
      "text/plain": [
       "                        N=100\n",
       "Elapsed time        25.592349\n",
       "Average ECE          0.642300\n",
       "Standard Deviation   0.278200"
      ]
     },
     "execution_count": 89,
     "metadata": {},
     "output_type": "execute_result"
    }
   ],
   "source": [
    "# Printing the tests for the configuration with N = 100\n",
    "print(f\"Results for configuration N=100\")\n",
    "results_data_frame"
   ]
  },
  {
   "cell_type": "code",
   "execution_count": 90,
   "id": "36d405196252dda1",
   "metadata": {
    "ExecuteTime": {
     "end_time": "2024-05-29T02:36:08.905886100Z",
     "start_time": "2024-05-29T02:36:08.876200Z"
    },
    "collapsed": false
   },
   "outputs": [
    {
     "name": "stdout",
     "output_type": "stream",
     "text": [
      "Results Per Iteration for configuration N=100\n"
     ]
    },
    {
     "data": {
      "text/html": [
       "<div>\n",
       "<style scoped>\n",
       "    .dataframe tbody tr th:only-of-type {\n",
       "        vertical-align: middle;\n",
       "    }\n",
       "\n",
       "    .dataframe tbody tr th {\n",
       "        vertical-align: top;\n",
       "    }\n",
       "\n",
       "    .dataframe thead th {\n",
       "        text-align: right;\n",
       "    }\n",
       "</style>\n",
       "<table border=\"1\" class=\"dataframe\">\n",
       "  <thead>\n",
       "    <tr style=\"text-align: right;\">\n",
       "      <th></th>\n",
       "      <th>ECE</th>\n",
       "    </tr>\n",
       "  </thead>\n",
       "  <tbody>\n",
       "    <tr>\n",
       "      <th>Iteration #1</th>\n",
       "      <td>0.5913</td>\n",
       "    </tr>\n",
       "    <tr>\n",
       "      <th>Iteration #2</th>\n",
       "      <td>0.9384</td>\n",
       "    </tr>\n",
       "    <tr>\n",
       "      <th>Iteration #3</th>\n",
       "      <td>0.9771</td>\n",
       "    </tr>\n",
       "    <tr>\n",
       "      <th>Iteration #4</th>\n",
       "      <td>0.7512</td>\n",
       "    </tr>\n",
       "    <tr>\n",
       "      <th>Iteration #5</th>\n",
       "      <td>0.5942</td>\n",
       "    </tr>\n",
       "    <tr>\n",
       "      <th>Iteration #6</th>\n",
       "      <td>0.2265</td>\n",
       "    </tr>\n",
       "    <tr>\n",
       "      <th>Iteration #7</th>\n",
       "      <td>0.9356</td>\n",
       "    </tr>\n",
       "    <tr>\n",
       "      <th>Iteration #8</th>\n",
       "      <td>0.3918</td>\n",
       "    </tr>\n",
       "    <tr>\n",
       "      <th>Iteration #9</th>\n",
       "      <td>0.7560</td>\n",
       "    </tr>\n",
       "    <tr>\n",
       "      <th>Iteration #10</th>\n",
       "      <td>0.2611</td>\n",
       "    </tr>\n",
       "  </tbody>\n",
       "</table>\n",
       "</div>"
      ],
      "text/plain": [
       "                  ECE\n",
       "Iteration #1   0.5913\n",
       "Iteration #2   0.9384\n",
       "Iteration #3   0.9771\n",
       "Iteration #4   0.7512\n",
       "Iteration #5   0.5942\n",
       "Iteration #6   0.2265\n",
       "Iteration #7   0.9356\n",
       "Iteration #8   0.3918\n",
       "Iteration #9   0.7560\n",
       "Iteration #10  0.2611"
      ]
     },
     "execution_count": 90,
     "metadata": {},
     "output_type": "execute_result"
    }
   ],
   "source": [
    "# Printing results per iteration for the configuration with N = 100\n",
    "print(\"Results Per Iteration for configuration N=100\")\n",
    "pd.DataFrame.transpose(results_per_iteration_data_frame)"
   ]
  },
  {
   "cell_type": "markdown",
   "id": "f59fee08bc4ba081",
   "metadata": {
    "collapsed": false
   },
   "source": [
    "### Testing N = 1000"
   ]
  },
  {
   "cell_type": "code",
   "execution_count": 91,
   "id": "e404a101b2e0a845",
   "metadata": {
    "ExecuteTime": {
     "end_time": "2024-05-29T02:36:43.908291600Z",
     "start_time": "2024-05-29T02:36:08.887845100Z"
    },
    "collapsed": false
   },
   "outputs": [
    {
     "data": {
      "image/png": "[encoded data removed]",
      "text/plain": [
       "<Figure size 1000x700 with 1 Axes>"
      ]
     },
     "metadata": {},
     "output_type": "display_data"
    }
   ],
   "source": [
    "# Running the tests for the configuration with N = 1000\n",
    "results, results_per_iteration = run_tests(1000)\n",
    "results_data_frame = pd.DataFrame.from_dict(results)\n",
    "results_per_iteration_data_frame = pd.DataFrame(results_per_iteration, index=[\"ECE\"])"
   ]
  },
  {
   "cell_type": "code",
   "execution_count": 92,
   "id": "1c1b90c4f1f37c44",
   "metadata": {
    "ExecuteTime": {
     "end_time": "2024-05-29T02:36:43.911297600Z",
     "start_time": "2024-05-29T02:36:43.694008800Z"
    },
    "collapsed": false
   },
   "outputs": [
    {
     "name": "stdout",
     "output_type": "stream",
     "text": [
      "Results for configuration N=1000\n"
     ]
    },
    {
     "data": {
      "text/html": [
       "<div>\n",
       "<style scoped>\n",
       "    .dataframe tbody tr th:only-of-type {\n",
       "        vertical-align: middle;\n",
       "    }\n",
       "\n",
       "    .dataframe tbody tr th {\n",
       "        vertical-align: top;\n",
       "    }\n",
       "\n",
       "    .dataframe thead th {\n",
       "        text-align: right;\n",
       "    }\n",
       "</style>\n",
       "<table border=\"1\" class=\"dataframe\">\n",
       "  <thead>\n",
       "    <tr style=\"text-align: right;\">\n",
       "      <th></th>\n",
       "      <th>N=1000</th>\n",
       "    </tr>\n",
       "  </thead>\n",
       "  <tbody>\n",
       "    <tr>\n",
       "      <th>Elapsed time</th>\n",
       "      <td>34.572599</td>\n",
       "    </tr>\n",
       "    <tr>\n",
       "      <th>Average ECE</th>\n",
       "      <td>0.719700</td>\n",
       "    </tr>\n",
       "    <tr>\n",
       "      <th>Standard Deviation</th>\n",
       "      <td>0.175400</td>\n",
       "    </tr>\n",
       "  </tbody>\n",
       "</table>\n",
       "</div>"
      ],
      "text/plain": [
       "                       N=1000\n",
       "Elapsed time        34.572599\n",
       "Average ECE          0.719700\n",
       "Standard Deviation   0.175400"
      ]
     },
     "execution_count": 92,
     "metadata": {},
     "output_type": "execute_result"
    }
   ],
   "source": [
    "# Printing the tests for the configuration with N = 1000\n",
    "print(f\"Results for configuration N=1000\")\n",
    "results_data_frame"
   ]
  },
  {
   "cell_type": "code",
   "execution_count": 93,
   "id": "e02d08dd948a0987",
   "metadata": {
    "ExecuteTime": {
     "end_time": "2024-05-29T02:36:43.913373200Z",
     "start_time": "2024-05-29T02:36:43.703311700Z"
    },
    "collapsed": false
   },
   "outputs": [
    {
     "name": "stdout",
     "output_type": "stream",
     "text": [
      "Results Per Iteration for configuration N=1000\n"
     ]
    },
    {
     "data": {
      "text/html": [
       "<div>\n",
       "<style scoped>\n",
       "    .dataframe tbody tr th:only-of-type {\n",
       "        vertical-align: middle;\n",
       "    }\n",
       "\n",
       "    .dataframe tbody tr th {\n",
       "        vertical-align: top;\n",
       "    }\n",
       "\n",
       "    .dataframe thead th {\n",
       "        text-align: right;\n",
       "    }\n",
       "</style>\n",
       "<table border=\"1\" class=\"dataframe\">\n",
       "  <thead>\n",
       "    <tr style=\"text-align: right;\">\n",
       "      <th></th>\n",
       "      <th>ECE</th>\n",
       "    </tr>\n",
       "  </thead>\n",
       "  <tbody>\n",
       "    <tr>\n",
       "      <th>Iteration #1</th>\n",
       "      <td>0.6150</td>\n",
       "    </tr>\n",
       "    <tr>\n",
       "      <th>Iteration #2</th>\n",
       "      <td>0.6174</td>\n",
       "    </tr>\n",
       "    <tr>\n",
       "      <th>Iteration #3</th>\n",
       "      <td>0.5985</td>\n",
       "    </tr>\n",
       "    <tr>\n",
       "      <th>Iteration #4</th>\n",
       "      <td>0.9217</td>\n",
       "    </tr>\n",
       "    <tr>\n",
       "      <th>Iteration #5</th>\n",
       "      <td>0.8296</td>\n",
       "    </tr>\n",
       "    <tr>\n",
       "      <th>Iteration #6</th>\n",
       "      <td>0.6310</td>\n",
       "    </tr>\n",
       "    <tr>\n",
       "      <th>Iteration #7</th>\n",
       "      <td>0.4216</td>\n",
       "    </tr>\n",
       "    <tr>\n",
       "      <th>Iteration #8</th>\n",
       "      <td>0.9661</td>\n",
       "    </tr>\n",
       "    <tr>\n",
       "      <th>Iteration #9</th>\n",
       "      <td>0.8937</td>\n",
       "    </tr>\n",
       "    <tr>\n",
       "      <th>Iteration #10</th>\n",
       "      <td>0.7028</td>\n",
       "    </tr>\n",
       "  </tbody>\n",
       "</table>\n",
       "</div>"
      ],
      "text/plain": [
       "                  ECE\n",
       "Iteration #1   0.6150\n",
       "Iteration #2   0.6174\n",
       "Iteration #3   0.5985\n",
       "Iteration #4   0.9217\n",
       "Iteration #5   0.8296\n",
       "Iteration #6   0.6310\n",
       "Iteration #7   0.4216\n",
       "Iteration #8   0.9661\n",
       "Iteration #9   0.8937\n",
       "Iteration #10  0.7028"
      ]
     },
     "execution_count": 93,
     "metadata": {},
     "output_type": "execute_result"
    }
   ],
   "source": [
    "# Printing results per iteration for the configuration with N = 1000\n",
    "print(\"Results Per Iteration for configuration N=1000\")\n",
    "pd.DataFrame.transpose(results_per_iteration_data_frame)"
   ]
  }
 ],
 "metadata": {
  "kernelspec": {
   "display_name": "Python 3 (ipykernel)",
   "language": "python",
   "name": "python3"
  },
  "language_info": {
   "codemirror_mode": {
    "name": "ipython",
    "version": 3
   },
   "file_extension": ".py",
   "mimetype": "text/x-python",
   "name": "python",
   "nbconvert_exporter": "python",
   "pygments_lexer": "ipython3",
   "version": "3.12.2"
  }
 },
 "nbformat": 4,
 "nbformat_minor": 5
}
