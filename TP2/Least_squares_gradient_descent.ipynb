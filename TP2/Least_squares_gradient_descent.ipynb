{
 "cells": [
  {
   "cell_type": "code",
   "execution_count": 5,
   "metadata": {
    "id": "qDVvweY0UIm0"
   },
   "outputs": [],
   "source": [
    "from __future__ import print_function\n",
    "import argparse\n",
    "import torch\n",
    "import torch.nn as nn\n",
    "import torch.nn.functional as F\n",
    "import torch.optim as optim\n",
    "import numpy as np;\n",
    "import pandas as pandas;\n",
    "from scipy import ndimage\n",
    "from torchvision import datasets, transforms\n",
    "from torch.distributions import normal\n",
    "from torch.distributions import multivariate_normal\n",
    "import matplotlib.pyplot as plt\n",
    "\n",
    "device = \"cpu\""
   ]
  },
  {
   "cell_type": "markdown",
   "metadata": {
    "id": "RDHYTE1qUKJ6"
   },
   "source": [
    "## Creation of artificial data\n",
    "\n",
    "Data are created artificially with a mixed Gaussian distribution of two clusters, with specific means and standard deviations"
   ]
  },
  {
   "cell_type": "code",
   "execution_count": 6,
   "metadata": {
    "id": "iZUnRQCtUi6l"
   },
   "outputs": [],
   "source": [
    "\n",
    "def createData(numberSamplesPerClass = 2, mean1 = [6, 6], mean2 = [14, 14], stds1 = [3, 3], stds2 = [2, 1]):\n",
    "    \"\"\"\n",
    "    Creates the data to be used for training, using a GMM distribution\n",
    "    @param numberSamplesPerClass, the number of samples per class\n",
    "    @param mean1, means for samples from the class 1\n",
    "    @param mean2, means for samples from the class 2\n",
    "    @param stds1, standard deviation for samples, class 1\n",
    "    @param stds2, standard deviation for samples, class 2\n",
    "    \"\"\"\n",
    "    means = torch.zeros(2, device = device)\n",
    "\n",
    "    # Ones to concatenate for bias\n",
    "    ones = torch.ones(numberSamplesPerClass, 1, device = device)\n",
    "    means[0] = mean1[0]\n",
    "    means[1] = mean1[1]\n",
    "    # Covariance matrix creation with identity\n",
    "    covarianceMatrix = torch.eye(2, device = device )\n",
    "    covarianceMatrix[0, 0] = stds1[0]\n",
    "    covarianceMatrix[1, 1] = stds1[1]\n",
    "    samplesClass1 = createDataOneClass(means, covarianceMatrix, numberSamplesPerClass)\n",
    "    means[0] = mean2[0]\n",
    "    means[1] = mean2[1]\n",
    "    covarianceMatrix[0, 0] = stds2[0]\n",
    "    covarianceMatrix[1, 1] = stds2[1]\n",
    "    samplesClass2 = createDataOneClass(means, covarianceMatrix, numberSamplesPerClass)\n",
    "    # Concatenates the ones for the bias\n",
    "    samplesClass1Bias = torch.cat((ones, samplesClass1), 1)\n",
    "    samplesClass2Bias = torch.cat((ones, samplesClass2), 1)\n",
    "    samplesAll = torch.cat((samplesClass1, samplesClass2), 0)\n",
    "    \n",
    "    plt.scatter(samplesClass1[:, 0].cpu().detach().numpy(), samplesClass1[:, 1].cpu().detach().numpy(), marker = \"x\")  \n",
    "    plt.scatter(samplesClass2[:, 0].cpu().detach().numpy(), samplesClass2[:, 1].cpu().detach().numpy())  \n",
    "    \n",
    "    #Create samples with bias\n",
    "    samplesAllBias = torch.cat((samplesClass1Bias, samplesClass2Bias), 0)\n",
    "    \n",
    "    #Create targets\n",
    "    targetsClass1 = torch.ones(numberSamplesPerClass, 1, device = device )\n",
    "    targetsClass2 = -1 * torch.ones(numberSamplesPerClass, 1, device = device )\n",
    "    targetsAll = torch.cat((targetsClass1, targetsClass2), 0)\n",
    "    \n",
    "    return (targetsAll, samplesAllBias)\n",
    "\n",
    "\n",
    "'''\n",
    "Creates data with gaussian distribution\n",
    "'''\n",
    "def createDataOneClass(means, covarianceMatrix, numberSamples):\n",
    "    # Inits the bi gaussian data generator\n",
    "    multiGaussGenerator = multivariate_normal.MultivariateNormal(means, covarianceMatrix)\n",
    "    # Takes the samples\n",
    "    samples = multiGaussGenerator.sample(torch.Size([numberSamples]))\n",
    "    samples = torch.tensor(samples,  device = device )\n",
    "    \n",
    "    return samples"
   ]
  },
  {
   "cell_type": "markdown",
   "metadata": {
    "id": "W9Su7DIj4ulk"
   },
   "source": [
    "## Least squares implementation"
   ]
  },
  {
   "cell_type": "code",
   "execution_count": 3,
   "metadata": {
    "id": "ogDwb74F4ull"
   },
   "outputs": [],
   "source": [
    "def estimate_optimum_LS(t, M):\n",
    "    \"\"\"\n",
    "    Estimate the optimum W with NO FORS\n",
    "    param M: NumSamples x 1 matrix with target values (1 or -1)\n",
    "    param t: NumSamples x NumDimensions \n",
    "    return w: array with optimum weights\n",
    "    \"\"\"\n",
    "    M_pinv = torch.tensor(np.linalg.pinv(M.numpy()), device = device )\n",
    "    w_opt = M_pinv.mm(t)\n",
    "    return w_opt         \n",
    "\n",
    "\n",
    "def forward(M, w):\n",
    "    \"\"\"\n",
    "    Get model output, with NO FORS\n",
    "    param M: dataset\n",
    "    return t_estimated, with 1 or -1\n",
    "    \"\"\"\n",
    "    y = M.mm(w)        \n",
    "    y[y > 0] = 1\n",
    "    y[y <= 0 ] = -1\n",
    "    t_estimated = y\n",
    "    return t_estimated\n",
    "\n",
    "def evaluate_error(t, t_estimated):\n",
    "    \"\"\"\n",
    "    Evaluate model error using the euclidian distance\n",
    "    param t, real targets\n",
    "    param t_estimated, estimated targets by the model\n",
    "    \"\"\"\n",
    "    error = torch.norm(t - t_estimated, 1) / t.shape[0]\n",
    "\n",
    "    return error"
   ]
  },
  {
   "cell_type": "markdown",
   "metadata": {
    "id": "trqQMVu34ulm"
   },
   "source": [
    "## Test the original least squares model"
   ]
  },
  {
   "cell_type": "code",
   "execution_count": 4,
   "metadata": {
    "colab": {
     "base_uri": "https://localhost:8080/",
     "height": 678
    },
    "id": "VHQyGpb-4ulm",
    "outputId": "6eab3037-5afe-4c6d-d5e5-5b3347a560fc"
   },
   "outputs": [
    {
     "name": "stdout",
     "output_type": "stream",
     "text": [
      "Pesos optimos \n",
      "  tensor([[ 2.3335],\n",
      "        [-0.1260],\n",
      "        [-0.1031]])\n"
     ]
    },
    {
     "name": "stderr",
     "output_type": "stream",
     "text": [
      "C:\\Users\\Usuario\\AppData\\Local\\Temp\\ipykernel_2060\\2323144258.py:53: UserWarning: To copy construct from a tensor, it is recommended to use sourceTensor.clone().detach() or sourceTensor.clone().detach().requires_grad_(True), rather than torch.tensor(sourceTensor).\n",
      "  samples = torch.tensor(samples,  device = device )\n"
     ]
    },
    {
     "data": {
      "image/png": "[encoded data removed]",
      "text/plain": [
       "<Figure size 432x288 with 1 Axes>"
      ]
     },
     "metadata": {
      "needs_background": "light"
     },
     "output_type": "display_data"
    },
    {
     "name": "stderr",
     "output_type": "stream",
     "text": [
      "C:\\Users\\Usuario\\AppData\\Local\\Temp\\ipykernel_2060\\2323144258.py:53: UserWarning: To copy construct from a tensor, it is recommended to use sourceTensor.clone().detach() or sourceTensor.clone().detach().requires_grad_(True), rather than torch.tensor(sourceTensor).\n",
      "  samples = torch.tensor(samples,  device = device )\n"
     ]
    },
    {
     "name": "stdout",
     "output_type": "stream",
     "text": [
      "Training error:  tensor(0.)\n",
      "Test error:  tensor(0.)\n"
     ]
    },
    {
     "data": {
      "image/png": "[encoded data removed]",
      "text/plain": [
       "<Figure size 432x288 with 1 Axes>"
      ]
     },
     "metadata": {
      "needs_background": "light"
     },
     "output_type": "display_data"
    }
   ],
   "source": [
    "def plot_line(wOpt):\n",
    "  wOpt = wOpt.cpu().detach()\n",
    "  b = (-1*wOpt[0] / wOpt[2]).numpy()[0]\n",
    "  m = (-1*wOpt[1] / wOpt[2]).numpy()[0]\n",
    "  x = np.arange(0., 15., 0.01)\n",
    "  y = m * x + b\n",
    "  plt.plot(x, y)\n",
    "  plt.show()\n",
    "  \n",
    "  \n",
    "  \n",
    "\n",
    "\"\"\"\n",
    "Main function\n",
    "\"\"\"\n",
    "def main():\n",
    "    (t, M) = createData(numberSamplesPerClass = 20)\n",
    "    #estimate optimum model weights\n",
    "    w_opt = estimate_optimum_LS(t, M)\n",
    "    print(\"Pesos optimos \\n \", w_opt)    \n",
    "    #estimate targets for the training dataset\n",
    "    t_estimated = forward(M, w_opt)\n",
    "    #evaluates error using L1 distance\n",
    "    error = evaluate_error(t, t_estimated)\n",
    "    plot_line(w_opt)\n",
    "    print(\"Training error: \", error)\n",
    "    #Test error\n",
    "    (t_test, M_test) = createData(numberSamplesPerClass = 20)\n",
    "    #estimate targets for the training dataset\n",
    "    t_estimated_test = forward(M_test, w_opt)\n",
    "    #evaluates error using L1 distance\n",
    "    error = evaluate_error(t_test, t_estimated_test)\n",
    "    print(\"Test error: \", error)\n",
    "    \n",
    "main()\n",
    "    "
   ]
  },
  {
   "cell_type": "markdown",
   "metadata": {
    "id": "KB000nhQvWht"
   },
   "source": [
    "## Least squares with gradient descent"
   ]
  },
  {
   "cell_type": "markdown",
   "metadata": {
    "id": "ITE9GLbWXS3G"
   },
   "source": [
    "#Train model with gradient descent\n",
    "Train the model using the gradient descent approach, no need of pseudo inverse calculation: \n",
    "The least squares error is given by: \n",
    "$$\n",
    "E(\\vec{w}) = \\vec{w}^{T}\\,A^{T}A\\:\\vec{w}-\\vec{w}^{T}\\,A^{T}\\vec{t}-\\vec{t}^{T}A\\:\\vec{w}+\\vec{t}^{T}\\vec{t}\n",
    "$$\n",
    "\n",
    "and we know its gradient vector is given by: \n",
    "\n",
    "$$ \\nabla_{\\vec{w}} E(\\vec{w}) = 2\\,A^{T}A\\,\\vec{w}-2\\,A^{T}\\,\\vec{t}$$\n",
    "\n",
    "Thus the gradient descent update equation is:\n",
    "\n",
    "$$\\overrightarrow{w}\\left(t+1\\right)=\\overrightarrow{w}\\left(t\\right)-\\alpha\\nabla_{\\overrightarrow{w}}E\\left(\\overrightarrow{w}\\left(t\\right)\\right)$$\n",
    "\n",
    "With $\\alpha$ the learning rate. \n",
    "\n"
   ]
  },
  {
   "cell_type": "code",
   "execution_count": 7,
   "metadata": {
    "id": "VQkql441Xgwe"
   },
   "outputs": [],
   "source": [
    "  \n",
    "def estimate_optimum_w_GD(TargetsAll, SamplesAll, alpha, epochs):\n",
    "    \"\"\" Estimate the optimum W with NO FORS\n",
    "    param TargetsAll, NumSamples x 1 matrix with target values (1 or -1)\n",
    "    param SamplesAll, NumSamples x NumDimensions \n",
    "    return wOpt, array with optimum weights\n",
    "    \"\"\"\n",
    "\n",
    "    SamplesAlltrans = SamplesAll.transpose(0, 1)\n",
    "    error_per_epoch = np.zeros(epochs)\n",
    "    #random initial search point\n",
    "    wT = torch.rand((3, 1), device = device )\n",
    "    print(\"SamplesAll.shape[0] \\n\", SamplesAll.shape[0])\n",
    "    for epoch in range(0, epochs):\n",
    "        #Calculate gradient error      \n",
    "        errorGradient = (1 / SamplesAll.shape[0]) * SamplesAlltrans.mm(SamplesAll).mm(wT) - SamplesAlltrans.mm(TargetsAll)\n",
    "        #update weights\n",
    "        wT -= alpha * errorGradient  \n",
    "        #estimate error for the current epoch\n",
    "        EstimatedTargetsAll = forward(SamplesAll, wT)\n",
    "        error = evaluate_error(TargetsAll, EstimatedTargetsAll)\n",
    "        #print(\"Epoch: \", epoch, \" error: \", error)\n",
    "        #saves the error\n",
    "        error_per_epoch[epoch] = error\n",
    "    return (wT, error_per_epoch)\n",
    "    \n",
    "  "
   ]
  },
  {
   "cell_type": "markdown",
   "metadata": {
    "id": "3xyHDc6rVC3n"
   },
   "source": [
    "##Main function and error graphing by epoch\n",
    "The main function creates the dataset and trains the perceptron, to finally plot the error by epoch."
   ]
  },
  {
   "cell_type": "code",
   "execution_count": 10,
   "metadata": {
    "colab": {
     "base_uri": "https://localhost:8080/",
     "height": 744
    },
    "id": "4YjRc89jVR2X",
    "outputId": "ae5e8dbe-7722-4b3a-d308-13622bfa3857"
   },
   "outputs": [
    {
     "name": "stderr",
     "output_type": "stream",
     "text": [
      "C:\\Users\\Usuario\\AppData\\Local\\Temp\\ipykernel_2060\\2323144258.py:53: UserWarning: To copy construct from a tensor, it is recommended to use sourceTensor.clone().detach() or sourceTensor.clone().detach().requires_grad_(True), rather than torch.tensor(sourceTensor).\n",
      "  samples = torch.tensor(samples,  device = device )\n"
     ]
    },
    {
     "name": "stdout",
     "output_type": "stream",
     "text": [
      "SamplesAll.shape[0] \n",
      " 200\n",
      "--- 1.9272592067718506 seconds ---\n",
      "Pesos optimos\n",
      "tensor([[460.6753],\n",
      "        [-21.3032],\n",
      "        [-24.9442]])\n"
     ]
    },
    {
     "data": {
      "image/png": "[encoded data removed]",
      "text/plain": [
       "<Figure size 432x288 with 1 Axes>"
      ]
     },
     "metadata": {
      "needs_background": "light"
     },
     "output_type": "display_data"
    },
    {
     "name": "stdout",
     "output_type": "stream",
     "text": [
      "Error\n",
      "tensor(0.)\n",
      "Error per epoch plot\n"
     ]
    },
    {
     "data": {
      "image/png": "[encoded data removed]",
      "text/plain": [
       "<Figure size 432x288 with 1 Axes>"
      ]
     },
     "metadata": {
      "needs_background": "light"
     },
     "output_type": "display_data"
    }
   ],
   "source": [
    "import time \n",
    "\n",
    "def main():\n",
    "    \"\"\"\n",
    "    Main function\n",
    "    \"\"\"\n",
    "    (t, X) = createData(numberSamplesPerClass = 100)\n",
    "    \n",
    "    alpha = 0.0025\n",
    "    epochs = 20000\n",
    "    start_time = time.time()\n",
    "    (w_opt, error_per_epoch) = estimate_optimum_w_GD(t, X, alpha, epochs)\n",
    "    print(\"--- %s seconds ---\" % (time.time() - start_time))\n",
    "    print(\"Pesos optimos\")\n",
    "    print(w_opt)\n",
    "    \n",
    "    t_estimated = forward(X, w_opt)\n",
    "    error = evaluate_error(t, t_estimated)\n",
    "    plot_line(w_opt)\n",
    "    print(\"Error\")\n",
    "    print(error)\n",
    "    print(\"Error per epoch plot\")\n",
    "    plt.plot(error_per_epoch)\n",
    "    plt.xlabel(\"epoch\")\n",
    "    plt.ylabel(\"error\")\n",
    "    plt.show()\n",
    "    \n",
    "    \n",
    "    \n",
    "        \n",
    "main()"
   ]
  },
  {
   "cell_type": "code",
   "execution_count": null,
   "metadata": {
    "id": "Q3xZSeum4uls"
   },
   "outputs": [],
   "source": []
  },
  {
   "cell_type": "code",
   "execution_count": null,
   "metadata": {
    "id": "r5HwXEKP4ult"
   },
   "outputs": [],
   "source": []
  }
 ],
 "metadata": {
  "accelerator": "GPU",
  "colab": {
   "provenance": []
  },
  "kernelspec": {
   "display_name": "Python 3 (ipykernel)",
   "language": "python",
   "name": "python3"
  },
  "language_info": {
   "codemirror_mode": {
    "name": "ipython",
    "version": 3
   },
   "file_extension": ".py",
   "mimetype": "text/x-python",
   "name": "python",
   "nbconvert_exporter": "python",
   "pygments_lexer": "ipython3",
   "version": "3.9.12"
  }
 },
 "nbformat": 4,
 "nbformat_minor": 1
}
